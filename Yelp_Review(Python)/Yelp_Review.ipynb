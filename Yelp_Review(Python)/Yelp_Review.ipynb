{
 "cells": [
  {
   "cell_type": "markdown",
   "metadata": {},
   "source": [
    "---\n",
    "# Final Project: Yelp Review\n",
    "### Tao Tang (University of Notre Dame)\n",
    "\n",
    "---\n",
    "\n",
    "## Yelp Data\n",
    "\n",
    "For the final project, you will analyze data that has been made publicly available for educational and academic purposes. The data contains 3 main tables we will analyze:\n",
    "\n",
    "  + `yelp_academic_dataset_business.csv` - contains information about  a subset of businesses having at least one Yelp review. Every distinct business has a unique `business_id`\n",
    "  \n",
    "  + `yelp_academic_dataset_review.csv` - contains a subset of Yelp reviews with a `business_id` indicating what business the review is for and a `user_id` to identify the user leaving the review\n",
    "  \n",
    "  + `yelp_academic_dataset_user.csv` - contains a subset of Yelp users identified by `user_id`\n",
    "   "
   ]
  },
  {
   "cell_type": "markdown",
   "metadata": {},
   "source": [
    "## Setup and Load the Data"
   ]
  },
  {
   "cell_type": "code",
   "execution_count": 1,
   "metadata": {},
   "outputs": [],
   "source": [
    "# Options to display more rows and columns\n",
    "# DO NOT REMOVE\n",
    "\n",
    "import pandas as pd\n",
    "pd.set_option('display.max_rows', 500)\n",
    "pd.set_option('display.max_columns', 500)\n",
    "pd.set_option('display.width', 100)"
   ]
  },
  {
   "cell_type": "code",
   "execution_count": 2,
   "metadata": {},
   "outputs": [
    {
     "name": "stderr",
     "output_type": "stream",
     "text": [
      "/Users/tt/opt/anaconda3/lib/python3.7/site-packages/statsmodels/tools/_testing.py:19: FutureWarning: pandas.util.testing is deprecated. Use the functions in the public API at pandas.testing instead.\n",
      "  import pandas.util.testing as tm\n"
     ]
    }
   ],
   "source": [
    "# Load the libraries you need...\n",
    "import numpy as np\n",
    "import matplotlib.pyplot as plt\n",
    "import seaborn as sns\n",
    "%matplotlib inline"
   ]
  },
  {
   "cell_type": "code",
   "execution_count": 3,
   "metadata": {},
   "outputs": [
    {
     "data": {
      "text/html": [
       "<div>\n",
       "<style scoped>\n",
       "    .dataframe tbody tr th:only-of-type {\n",
       "        vertical-align: middle;\n",
       "    }\n",
       "\n",
       "    .dataframe tbody tr th {\n",
       "        vertical-align: top;\n",
       "    }\n",
       "\n",
       "    .dataframe thead th {\n",
       "        text-align: right;\n",
       "    }\n",
       "</style>\n",
       "<table border=\"1\" class=\"dataframe\">\n",
       "  <thead>\n",
       "    <tr style=\"text-align: right;\">\n",
       "      <th></th>\n",
       "      <th>address</th>\n",
       "      <th>attributes</th>\n",
       "      <th>attributes.AcceptsInsurance</th>\n",
       "      <th>attributes.AgesAllowed</th>\n",
       "      <th>attributes.Alcohol</th>\n",
       "      <th>attributes.Ambience</th>\n",
       "      <th>attributes.BYOB</th>\n",
       "      <th>attributes.BYOBCorkage</th>\n",
       "      <th>attributes.BestNights</th>\n",
       "      <th>attributes.BikeParking</th>\n",
       "      <th>attributes.BusinessAcceptsBitcoin</th>\n",
       "      <th>attributes.BusinessAcceptsCreditCards</th>\n",
       "      <th>attributes.BusinessParking</th>\n",
       "      <th>attributes.ByAppointmentOnly</th>\n",
       "      <th>attributes.Caters</th>\n",
       "      <th>attributes.CoatCheck</th>\n",
       "      <th>attributes.Corkage</th>\n",
       "      <th>attributes.DietaryRestrictions</th>\n",
       "      <th>attributes.DogsAllowed</th>\n",
       "      <th>attributes.DriveThru</th>\n",
       "      <th>attributes.GoodForDancing</th>\n",
       "      <th>attributes.GoodForKids</th>\n",
       "      <th>attributes.GoodForMeal</th>\n",
       "      <th>attributes.HairSpecializesIn</th>\n",
       "      <th>attributes.HappyHour</th>\n",
       "      <th>attributes.HasTV</th>\n",
       "      <th>attributes.Music</th>\n",
       "      <th>attributes.NoiseLevel</th>\n",
       "      <th>attributes.Open24Hours</th>\n",
       "      <th>attributes.OutdoorSeating</th>\n",
       "      <th>attributes.RestaurantsAttire</th>\n",
       "      <th>attributes.RestaurantsCounterService</th>\n",
       "      <th>attributes.RestaurantsDelivery</th>\n",
       "      <th>attributes.RestaurantsGoodForGroups</th>\n",
       "      <th>attributes.RestaurantsPriceRange2</th>\n",
       "      <th>attributes.RestaurantsReservations</th>\n",
       "      <th>attributes.RestaurantsTableService</th>\n",
       "      <th>attributes.RestaurantsTakeOut</th>\n",
       "      <th>attributes.Smoking</th>\n",
       "      <th>attributes.WheelchairAccessible</th>\n",
       "      <th>attributes.WiFi</th>\n",
       "      <th>business_id</th>\n",
       "      <th>categories</th>\n",
       "      <th>city</th>\n",
       "      <th>hours</th>\n",
       "      <th>hours.Friday</th>\n",
       "      <th>hours.Monday</th>\n",
       "      <th>hours.Saturday</th>\n",
       "      <th>hours.Sunday</th>\n",
       "      <th>hours.Thursday</th>\n",
       "      <th>hours.Tuesday</th>\n",
       "      <th>hours.Wednesday</th>\n",
       "      <th>is_open</th>\n",
       "      <th>latitude</th>\n",
       "      <th>longitude</th>\n",
       "      <th>name</th>\n",
       "      <th>neighborhood</th>\n",
       "      <th>postal_code</th>\n",
       "      <th>review_count</th>\n",
       "      <th>stars</th>\n",
       "      <th>state</th>\n",
       "    </tr>\n",
       "  </thead>\n",
       "  <tbody>\n",
       "    <tr>\n",
       "      <th>0</th>\n",
       "      <td>1314 44 Avenue NE</td>\n",
       "      <td>NaN</td>\n",
       "      <td>NaN</td>\n",
       "      <td>NaN</td>\n",
       "      <td>NaN</td>\n",
       "      <td>NaN</td>\n",
       "      <td>NaN</td>\n",
       "      <td>NaN</td>\n",
       "      <td>NaN</td>\n",
       "      <td>False</td>\n",
       "      <td>NaN</td>\n",
       "      <td>True</td>\n",
       "      <td>{'garage': False, 'street': True, 'validated':...</td>\n",
       "      <td>NaN</td>\n",
       "      <td>NaN</td>\n",
       "      <td>NaN</td>\n",
       "      <td>NaN</td>\n",
       "      <td>NaN</td>\n",
       "      <td>NaN</td>\n",
       "      <td>NaN</td>\n",
       "      <td>NaN</td>\n",
       "      <td>True</td>\n",
       "      <td>NaN</td>\n",
       "      <td>NaN</td>\n",
       "      <td>NaN</td>\n",
       "      <td>True</td>\n",
       "      <td>NaN</td>\n",
       "      <td>average</td>\n",
       "      <td>NaN</td>\n",
       "      <td>False</td>\n",
       "      <td>casual</td>\n",
       "      <td>NaN</td>\n",
       "      <td>False</td>\n",
       "      <td>True</td>\n",
       "      <td>2.0</td>\n",
       "      <td>True</td>\n",
       "      <td>NaN</td>\n",
       "      <td>True</td>\n",
       "      <td>NaN</td>\n",
       "      <td>NaN</td>\n",
       "      <td>NaN</td>\n",
       "      <td>Apn5Q_b6Nz61Tq4XzPdf9A</td>\n",
       "      <td>Tours, Breweries, Pizza, Restaurants, Food, Ho...</td>\n",
       "      <td>Calgary</td>\n",
       "      <td>NaN</td>\n",
       "      <td>11:0-21:0</td>\n",
       "      <td>8:30-17:0</td>\n",
       "      <td>11:0-21:0</td>\n",
       "      <td>NaN</td>\n",
       "      <td>11:0-21:0</td>\n",
       "      <td>11:0-21:0</td>\n",
       "      <td>11:0-21:0</td>\n",
       "      <td>1</td>\n",
       "      <td>51.091813</td>\n",
       "      <td>-114.031675</td>\n",
       "      <td>Minhas Micro Brewery</td>\n",
       "      <td>NaN</td>\n",
       "      <td>T2E 6L6</td>\n",
       "      <td>24</td>\n",
       "      <td>4.0</td>\n",
       "      <td>AB</td>\n",
       "    </tr>\n",
       "    <tr>\n",
       "      <th>1</th>\n",
       "      <td>NaN</td>\n",
       "      <td>NaN</td>\n",
       "      <td>NaN</td>\n",
       "      <td>NaN</td>\n",
       "      <td>none</td>\n",
       "      <td>NaN</td>\n",
       "      <td>NaN</td>\n",
       "      <td>NaN</td>\n",
       "      <td>NaN</td>\n",
       "      <td>False</td>\n",
       "      <td>NaN</td>\n",
       "      <td>True</td>\n",
       "      <td>{'garage': False, 'street': True, 'validated':...</td>\n",
       "      <td>NaN</td>\n",
       "      <td>True</td>\n",
       "      <td>NaN</td>\n",
       "      <td>NaN</td>\n",
       "      <td>NaN</td>\n",
       "      <td>True</td>\n",
       "      <td>False</td>\n",
       "      <td>NaN</td>\n",
       "      <td>True</td>\n",
       "      <td>{'dessert': False, 'latenight': False, 'lunch'...</td>\n",
       "      <td>NaN</td>\n",
       "      <td>NaN</td>\n",
       "      <td>False</td>\n",
       "      <td>NaN</td>\n",
       "      <td>NaN</td>\n",
       "      <td>NaN</td>\n",
       "      <td>True</td>\n",
       "      <td>casual</td>\n",
       "      <td>NaN</td>\n",
       "      <td>False</td>\n",
       "      <td>True</td>\n",
       "      <td>2.0</td>\n",
       "      <td>False</td>\n",
       "      <td>False</td>\n",
       "      <td>True</td>\n",
       "      <td>NaN</td>\n",
       "      <td>True</td>\n",
       "      <td>no</td>\n",
       "      <td>AjEbIBw6ZFfln7ePHha9PA</td>\n",
       "      <td>Chicken Wings, Burgers, Caterers, Street Vendo...</td>\n",
       "      <td>Henderson</td>\n",
       "      <td>NaN</td>\n",
       "      <td>17:0-23:0</td>\n",
       "      <td>NaN</td>\n",
       "      <td>17:0-23:0</td>\n",
       "      <td>17:0-23:0</td>\n",
       "      <td>NaN</td>\n",
       "      <td>NaN</td>\n",
       "      <td>NaN</td>\n",
       "      <td>0</td>\n",
       "      <td>35.960734</td>\n",
       "      <td>-114.939821</td>\n",
       "      <td>CK'S BBQ &amp; Catering</td>\n",
       "      <td>NaN</td>\n",
       "      <td>89002</td>\n",
       "      <td>3</td>\n",
       "      <td>4.5</td>\n",
       "      <td>NV</td>\n",
       "    </tr>\n",
       "    <tr>\n",
       "      <th>2</th>\n",
       "      <td>1335 rue Beaubien E</td>\n",
       "      <td>NaN</td>\n",
       "      <td>NaN</td>\n",
       "      <td>NaN</td>\n",
       "      <td>beer_and_wine</td>\n",
       "      <td>{'romantic': False, 'intimate': False, 'classy...</td>\n",
       "      <td>NaN</td>\n",
       "      <td>NaN</td>\n",
       "      <td>NaN</td>\n",
       "      <td>True</td>\n",
       "      <td>NaN</td>\n",
       "      <td>False</td>\n",
       "      <td>{'garage': False, 'street': False, 'validated'...</td>\n",
       "      <td>NaN</td>\n",
       "      <td>False</td>\n",
       "      <td>NaN</td>\n",
       "      <td>NaN</td>\n",
       "      <td>NaN</td>\n",
       "      <td>NaN</td>\n",
       "      <td>NaN</td>\n",
       "      <td>NaN</td>\n",
       "      <td>True</td>\n",
       "      <td>{'dessert': False, 'latenight': False, 'lunch'...</td>\n",
       "      <td>NaN</td>\n",
       "      <td>NaN</td>\n",
       "      <td>True</td>\n",
       "      <td>NaN</td>\n",
       "      <td>average</td>\n",
       "      <td>NaN</td>\n",
       "      <td>False</td>\n",
       "      <td>casual</td>\n",
       "      <td>NaN</td>\n",
       "      <td>False</td>\n",
       "      <td>True</td>\n",
       "      <td>2.0</td>\n",
       "      <td>True</td>\n",
       "      <td>True</td>\n",
       "      <td>False</td>\n",
       "      <td>NaN</td>\n",
       "      <td>NaN</td>\n",
       "      <td>free</td>\n",
       "      <td>O8S5hYJ1SMc8fA4QBtVujA</td>\n",
       "      <td>Breakfast &amp; Brunch, Restaurants, French, Sandw...</td>\n",
       "      <td>Montréal</td>\n",
       "      <td>NaN</td>\n",
       "      <td>10:0-22:0</td>\n",
       "      <td>10:0-22:0</td>\n",
       "      <td>10:0-22:0</td>\n",
       "      <td>10:0-22:0</td>\n",
       "      <td>10:0-22:0</td>\n",
       "      <td>10:0-22:0</td>\n",
       "      <td>10:0-22:0</td>\n",
       "      <td>0</td>\n",
       "      <td>45.540503</td>\n",
       "      <td>-73.599300</td>\n",
       "      <td>La Bastringue</td>\n",
       "      <td>Rosemont-La Petite-Patrie</td>\n",
       "      <td>H2G 1K7</td>\n",
       "      <td>5</td>\n",
       "      <td>4.0</td>\n",
       "      <td>QC</td>\n",
       "    </tr>\n",
       "    <tr>\n",
       "      <th>3</th>\n",
       "      <td>211 W Monroe St</td>\n",
       "      <td>NaN</td>\n",
       "      <td>NaN</td>\n",
       "      <td>NaN</td>\n",
       "      <td>NaN</td>\n",
       "      <td>NaN</td>\n",
       "      <td>NaN</td>\n",
       "      <td>NaN</td>\n",
       "      <td>NaN</td>\n",
       "      <td>NaN</td>\n",
       "      <td>NaN</td>\n",
       "      <td>NaN</td>\n",
       "      <td>NaN</td>\n",
       "      <td>NaN</td>\n",
       "      <td>NaN</td>\n",
       "      <td>NaN</td>\n",
       "      <td>NaN</td>\n",
       "      <td>NaN</td>\n",
       "      <td>NaN</td>\n",
       "      <td>NaN</td>\n",
       "      <td>NaN</td>\n",
       "      <td>NaN</td>\n",
       "      <td>NaN</td>\n",
       "      <td>NaN</td>\n",
       "      <td>NaN</td>\n",
       "      <td>NaN</td>\n",
       "      <td>NaN</td>\n",
       "      <td>NaN</td>\n",
       "      <td>NaN</td>\n",
       "      <td>NaN</td>\n",
       "      <td>NaN</td>\n",
       "      <td>NaN</td>\n",
       "      <td>NaN</td>\n",
       "      <td>NaN</td>\n",
       "      <td>NaN</td>\n",
       "      <td>NaN</td>\n",
       "      <td>NaN</td>\n",
       "      <td>NaN</td>\n",
       "      <td>NaN</td>\n",
       "      <td>NaN</td>\n",
       "      <td>NaN</td>\n",
       "      <td>bFzdJJ3wp3PZssNEsyU23g</td>\n",
       "      <td>Insurance, Financial Services</td>\n",
       "      <td>Phoenix</td>\n",
       "      <td>NaN</td>\n",
       "      <td>NaN</td>\n",
       "      <td>NaN</td>\n",
       "      <td>NaN</td>\n",
       "      <td>NaN</td>\n",
       "      <td>NaN</td>\n",
       "      <td>NaN</td>\n",
       "      <td>NaN</td>\n",
       "      <td>1</td>\n",
       "      <td>33.449999</td>\n",
       "      <td>-112.076979</td>\n",
       "      <td>Geico Insurance</td>\n",
       "      <td>NaN</td>\n",
       "      <td>85003</td>\n",
       "      <td>8</td>\n",
       "      <td>1.5</td>\n",
       "      <td>AZ</td>\n",
       "    </tr>\n",
       "    <tr>\n",
       "      <th>4</th>\n",
       "      <td>2005 Alyth Place SE</td>\n",
       "      <td>NaN</td>\n",
       "      <td>NaN</td>\n",
       "      <td>NaN</td>\n",
       "      <td>NaN</td>\n",
       "      <td>NaN</td>\n",
       "      <td>NaN</td>\n",
       "      <td>NaN</td>\n",
       "      <td>NaN</td>\n",
       "      <td>NaN</td>\n",
       "      <td>NaN</td>\n",
       "      <td>True</td>\n",
       "      <td>NaN</td>\n",
       "      <td>NaN</td>\n",
       "      <td>NaN</td>\n",
       "      <td>NaN</td>\n",
       "      <td>NaN</td>\n",
       "      <td>NaN</td>\n",
       "      <td>NaN</td>\n",
       "      <td>NaN</td>\n",
       "      <td>NaN</td>\n",
       "      <td>NaN</td>\n",
       "      <td>NaN</td>\n",
       "      <td>NaN</td>\n",
       "      <td>NaN</td>\n",
       "      <td>NaN</td>\n",
       "      <td>NaN</td>\n",
       "      <td>NaN</td>\n",
       "      <td>NaN</td>\n",
       "      <td>NaN</td>\n",
       "      <td>NaN</td>\n",
       "      <td>NaN</td>\n",
       "      <td>NaN</td>\n",
       "      <td>NaN</td>\n",
       "      <td>NaN</td>\n",
       "      <td>NaN</td>\n",
       "      <td>NaN</td>\n",
       "      <td>NaN</td>\n",
       "      <td>NaN</td>\n",
       "      <td>NaN</td>\n",
       "      <td>NaN</td>\n",
       "      <td>8USyCYqpScwiNEb58Bt6CA</td>\n",
       "      <td>Home &amp; Garden, Nurseries &amp; Gardening, Shopping...</td>\n",
       "      <td>Calgary</td>\n",
       "      <td>NaN</td>\n",
       "      <td>8:0-17:0</td>\n",
       "      <td>8:0-17:0</td>\n",
       "      <td>NaN</td>\n",
       "      <td>NaN</td>\n",
       "      <td>8:0-17:0</td>\n",
       "      <td>8:0-17:0</td>\n",
       "      <td>8:0-17:0</td>\n",
       "      <td>1</td>\n",
       "      <td>51.035591</td>\n",
       "      <td>-114.027366</td>\n",
       "      <td>Action Engine</td>\n",
       "      <td>NaN</td>\n",
       "      <td>T2H 0N5</td>\n",
       "      <td>4</td>\n",
       "      <td>2.0</td>\n",
       "      <td>AB</td>\n",
       "    </tr>\n",
       "  </tbody>\n",
       "</table>\n",
       "</div>"
      ],
      "text/plain": [
       "               address  attributes attributes.AcceptsInsurance attributes.AgesAllowed  \\\n",
       "0    1314 44 Avenue NE         NaN                         NaN                    NaN   \n",
       "1                  NaN         NaN                         NaN                    NaN   \n",
       "2  1335 rue Beaubien E         NaN                         NaN                    NaN   \n",
       "3      211 W Monroe St         NaN                         NaN                    NaN   \n",
       "4  2005 Alyth Place SE         NaN                         NaN                    NaN   \n",
       "\n",
       "  attributes.Alcohol                                attributes.Ambience attributes.BYOB  \\\n",
       "0                NaN                                                NaN             NaN   \n",
       "1               none                                                NaN             NaN   \n",
       "2      beer_and_wine  {'romantic': False, 'intimate': False, 'classy...             NaN   \n",
       "3                NaN                                                NaN             NaN   \n",
       "4                NaN                                                NaN             NaN   \n",
       "\n",
       "  attributes.BYOBCorkage attributes.BestNights attributes.BikeParking  \\\n",
       "0                    NaN                   NaN                  False   \n",
       "1                    NaN                   NaN                  False   \n",
       "2                    NaN                   NaN                   True   \n",
       "3                    NaN                   NaN                    NaN   \n",
       "4                    NaN                   NaN                    NaN   \n",
       "\n",
       "  attributes.BusinessAcceptsBitcoin attributes.BusinessAcceptsCreditCards  \\\n",
       "0                               NaN                                  True   \n",
       "1                               NaN                                  True   \n",
       "2                               NaN                                 False   \n",
       "3                               NaN                                   NaN   \n",
       "4                               NaN                                  True   \n",
       "\n",
       "                          attributes.BusinessParking attributes.ByAppointmentOnly  \\\n",
       "0  {'garage': False, 'street': True, 'validated':...                          NaN   \n",
       "1  {'garage': False, 'street': True, 'validated':...                          NaN   \n",
       "2  {'garage': False, 'street': False, 'validated'...                          NaN   \n",
       "3                                                NaN                          NaN   \n",
       "4                                                NaN                          NaN   \n",
       "\n",
       "  attributes.Caters attributes.CoatCheck attributes.Corkage attributes.DietaryRestrictions  \\\n",
       "0               NaN                  NaN                NaN                            NaN   \n",
       "1              True                  NaN                NaN                            NaN   \n",
       "2             False                  NaN                NaN                            NaN   \n",
       "3               NaN                  NaN                NaN                            NaN   \n",
       "4               NaN                  NaN                NaN                            NaN   \n",
       "\n",
       "  attributes.DogsAllowed attributes.DriveThru attributes.GoodForDancing attributes.GoodForKids  \\\n",
       "0                    NaN                  NaN                       NaN                   True   \n",
       "1                   True                False                       NaN                   True   \n",
       "2                    NaN                  NaN                       NaN                   True   \n",
       "3                    NaN                  NaN                       NaN                    NaN   \n",
       "4                    NaN                  NaN                       NaN                    NaN   \n",
       "\n",
       "                              attributes.GoodForMeal attributes.HairSpecializesIn  \\\n",
       "0                                                NaN                          NaN   \n",
       "1  {'dessert': False, 'latenight': False, 'lunch'...                          NaN   \n",
       "2  {'dessert': False, 'latenight': False, 'lunch'...                          NaN   \n",
       "3                                                NaN                          NaN   \n",
       "4                                                NaN                          NaN   \n",
       "\n",
       "  attributes.HappyHour attributes.HasTV attributes.Music attributes.NoiseLevel  \\\n",
       "0                  NaN             True              NaN               average   \n",
       "1                  NaN            False              NaN                   NaN   \n",
       "2                  NaN             True              NaN               average   \n",
       "3                  NaN              NaN              NaN                   NaN   \n",
       "4                  NaN              NaN              NaN                   NaN   \n",
       "\n",
       "  attributes.Open24Hours attributes.OutdoorSeating attributes.RestaurantsAttire  \\\n",
       "0                    NaN                     False                       casual   \n",
       "1                    NaN                      True                       casual   \n",
       "2                    NaN                     False                       casual   \n",
       "3                    NaN                       NaN                          NaN   \n",
       "4                    NaN                       NaN                          NaN   \n",
       "\n",
       "  attributes.RestaurantsCounterService attributes.RestaurantsDelivery  \\\n",
       "0                                  NaN                          False   \n",
       "1                                  NaN                          False   \n",
       "2                                  NaN                          False   \n",
       "3                                  NaN                            NaN   \n",
       "4                                  NaN                            NaN   \n",
       "\n",
       "  attributes.RestaurantsGoodForGroups  attributes.RestaurantsPriceRange2  \\\n",
       "0                                True                                2.0   \n",
       "1                                True                                2.0   \n",
       "2                                True                                2.0   \n",
       "3                                 NaN                                NaN   \n",
       "4                                 NaN                                NaN   \n",
       "\n",
       "  attributes.RestaurantsReservations attributes.RestaurantsTableService  \\\n",
       "0                               True                                NaN   \n",
       "1                              False                              False   \n",
       "2                               True                               True   \n",
       "3                                NaN                                NaN   \n",
       "4                                NaN                                NaN   \n",
       "\n",
       "  attributes.RestaurantsTakeOut attributes.Smoking attributes.WheelchairAccessible  \\\n",
       "0                          True                NaN                             NaN   \n",
       "1                          True                NaN                            True   \n",
       "2                         False                NaN                             NaN   \n",
       "3                           NaN                NaN                             NaN   \n",
       "4                           NaN                NaN                             NaN   \n",
       "\n",
       "  attributes.WiFi             business_id                                         categories  \\\n",
       "0             NaN  Apn5Q_b6Nz61Tq4XzPdf9A  Tours, Breweries, Pizza, Restaurants, Food, Ho...   \n",
       "1              no  AjEbIBw6ZFfln7ePHha9PA  Chicken Wings, Burgers, Caterers, Street Vendo...   \n",
       "2            free  O8S5hYJ1SMc8fA4QBtVujA  Breakfast & Brunch, Restaurants, French, Sandw...   \n",
       "3             NaN  bFzdJJ3wp3PZssNEsyU23g                      Insurance, Financial Services   \n",
       "4             NaN  8USyCYqpScwiNEb58Bt6CA  Home & Garden, Nurseries & Gardening, Shopping...   \n",
       "\n",
       "        city  hours hours.Friday hours.Monday hours.Saturday hours.Sunday hours.Thursday  \\\n",
       "0    Calgary    NaN    11:0-21:0    8:30-17:0      11:0-21:0          NaN      11:0-21:0   \n",
       "1  Henderson    NaN    17:0-23:0          NaN      17:0-23:0    17:0-23:0            NaN   \n",
       "2   Montréal    NaN    10:0-22:0    10:0-22:0      10:0-22:0    10:0-22:0      10:0-22:0   \n",
       "3    Phoenix    NaN          NaN          NaN            NaN          NaN            NaN   \n",
       "4    Calgary    NaN     8:0-17:0     8:0-17:0            NaN          NaN       8:0-17:0   \n",
       "\n",
       "  hours.Tuesday hours.Wednesday  is_open   latitude   longitude                  name  \\\n",
       "0     11:0-21:0       11:0-21:0        1  51.091813 -114.031675  Minhas Micro Brewery   \n",
       "1           NaN             NaN        0  35.960734 -114.939821   CK'S BBQ & Catering   \n",
       "2     10:0-22:0       10:0-22:0        0  45.540503  -73.599300         La Bastringue   \n",
       "3           NaN             NaN        1  33.449999 -112.076979       Geico Insurance   \n",
       "4      8:0-17:0        8:0-17:0        1  51.035591 -114.027366         Action Engine   \n",
       "\n",
       "                neighborhood postal_code  review_count  stars state  \n",
       "0                        NaN     T2E 6L6            24    4.0    AB  \n",
       "1                        NaN       89002             3    4.5    NV  \n",
       "2  Rosemont-La Petite-Patrie     H2G 1K7             5    4.0    QC  \n",
       "3                        NaN       85003             8    1.5    AZ  \n",
       "4                        NaN     T2H 0N5             4    2.0    AB  "
      ]
     },
     "execution_count": 3,
     "metadata": {},
     "output_type": "execute_result"
    }
   ],
   "source": [
    "# Load the data\n",
    "\n",
    "business_data = pd.read_csv(r'data-sets/yelp_academic_dataset_business.csv')\n",
    "business_data.head()"
   ]
  },
  {
   "cell_type": "markdown",
   "metadata": {},
   "source": [
    "# 1 - Explore and Clean Data"
   ]
  },
  {
   "cell_type": "markdown",
   "metadata": {},
   "source": [
    "### Problem 1\n",
    "\n",
    "<span  style=\"color:purple; font-size:16px\">The `yelp_academic_dataset_business.csv` data has been loaded for you as a Pandas DataFrame called `business_data`. Determine the  number of rows and columns of the data. Is the data in a tidy format? Briefly explain your reasoning about why you think the data is/is not tidy.</span>"
   ]
  },
  {
   "cell_type": "code",
   "execution_count": 4,
   "metadata": {},
   "outputs": [
    {
     "data": {
      "text/plain": [
       "(188593, 61)"
      ]
     },
     "execution_count": 4,
     "metadata": {},
     "output_type": "execute_result"
    }
   ],
   "source": [
    "business_data.shape"
   ]
  },
  {
   "cell_type": "markdown",
   "metadata": {},
   "source": [
    "#### Written Answer:\n",
    "\n",
    "The data is not in a tidy format.\n",
    "+ Mutile variables are stored in one column.\n",
    "+ Variables are stored in both rows and columns."
   ]
  },
  {
   "cell_type": "markdown",
   "metadata": {},
   "source": [
    "### Problem 2\n",
    "\n",
    "<span  style=\"color:purple; font-size:16px\">Determine the number of columns of each data type in `business_data`: object, float64, int64. </span>"
   ]
  },
  {
   "cell_type": "code",
   "execution_count": 5,
   "metadata": {},
   "outputs": [
    {
     "data": {
      "text/plain": [
       "object     53\n",
       "float64     6\n",
       "int64       2\n",
       "dtype: int64"
      ]
     },
     "execution_count": 5,
     "metadata": {},
     "output_type": "execute_result"
    }
   ],
   "source": [
    "business_data.dtypes.value_counts()"
   ]
  },
  {
   "cell_type": "markdown",
   "metadata": {},
   "source": [
    "### Problem 3\n",
    "\n",
    "<span  style=\"color:purple; font-size:16px\">Create a Pandas Series containing the proportion of missing values in each column of `business_data`.</span>"
   ]
  },
  {
   "cell_type": "code",
   "execution_count": 6,
   "metadata": {},
   "outputs": [
    {
     "data": {
      "text/plain": [
       "attributes                               1.000000\n",
       "hours                                    1.000000\n",
       "attributes.DietaryRestrictions           0.999268\n",
       "attributes.Open24Hours                   0.998134\n",
       "attributes.AgesAllowed                   0.997895\n",
       "attributes.RestaurantsCounterService     0.997895\n",
       "attributes.Corkage                       0.996516\n",
       "attributes.BYOB                          0.995169\n",
       "attributes.BYOBCorkage                   0.992529\n",
       "attributes.HairSpecializesIn             0.990026\n",
       "attributes.DriveThru                     0.964187\n",
       "attributes.BestNights                    0.963710\n",
       "attributes.Smoking                       0.956981\n",
       "attributes.CoatCheck                     0.954765\n",
       "attributes.Music                         0.953302\n",
       "attributes.GoodForDancing                0.951419\n",
       "attributes.HappyHour                     0.950767\n",
       "attributes.AcceptsInsurance              0.938115\n",
       "attributes.BusinessAcceptsBitcoin        0.932797\n",
       "attributes.DogsAllowed                   0.927458\n",
       "attributes.Caters                        0.787702\n",
       "attributes.RestaurantsTableService       0.770272\n",
       "attributes.NoiseLevel                    0.768231\n",
       "attributes.ByAppointmentOnly             0.759148\n",
       "attributes.GoodForMeal                   0.748225\n",
       "attributes.HasTV                         0.747960\n",
       "attributes.Ambience                      0.747727\n",
       "attributes.Alcohol                       0.746056\n",
       "attributes.RestaurantsAttire             0.744519\n",
       "attributes.WiFi                          0.740043\n",
       "attributes.RestaurantsReservations       0.727652\n",
       "attributes.RestaurantsDelivery           0.726034\n",
       "attributes.WheelchairAccessible          0.724152\n",
       "attributes.RestaurantsGoodForGroups      0.714523\n",
       "attributes.OutdoorSeating                0.712709\n",
       "attributes.RestaurantsTakeOut            0.675460\n",
       "attributes.GoodForKids                   0.655708\n",
       "neighborhood                             0.635962\n",
       "attributes.BikeParking                   0.549872\n",
       "hours.Sunday                             0.504823\n",
       "attributes.BusinessParking               0.451602\n",
       "attributes.RestaurantsPriceRange2        0.432004\n",
       "hours.Saturday                           0.335203\n",
       "hours.Monday                             0.296045\n",
       "attributes.BusinessAcceptsCreditCards    0.255587\n",
       "hours.Tuesday                            0.254442\n",
       "hours.Friday                             0.248138\n",
       "hours.Wednesday                          0.247888\n",
       "hours.Thursday                           0.245152\n",
       "address                                  0.040420\n",
       "postal_code                              0.003611\n",
       "categories                               0.002869\n",
       "city                                     0.000053\n",
       "latitude                                 0.000032\n",
       "longitude                                0.000032\n",
       "stars                                    0.000000\n",
       "business_id                              0.000000\n",
       "is_open                                  0.000000\n",
       "name                                     0.000000\n",
       "review_count                             0.000000\n",
       "state                                    0.000000\n",
       "dtype: float64"
      ]
     },
     "execution_count": 6,
     "metadata": {},
     "output_type": "execute_result"
    }
   ],
   "source": [
    "\n",
    "business_data.isnull().mean().sort_values(ascending = False)"
   ]
  },
  {
   "cell_type": "markdown",
   "metadata": {},
   "source": [
    "<span  style=\"color:purple; font-size:16px\">How many variables have no missing values?</span>"
   ]
  },
  {
   "cell_type": "code",
   "execution_count": 7,
   "metadata": {},
   "outputs": [
    {
     "data": {
      "text/plain": [
       "state                                    1.000000\n",
       "review_count                             1.000000\n",
       "stars                                    1.000000\n",
       "name                                     1.000000\n",
       "is_open                                  1.000000\n",
       "business_id                              1.000000\n",
       "longitude                                0.999968\n",
       "latitude                                 0.999968\n",
       "city                                     0.999947\n",
       "categories                               0.997131\n",
       "postal_code                              0.996389\n",
       "address                                  0.959580\n",
       "hours.Thursday                           0.754848\n",
       "hours.Wednesday                          0.752112\n",
       "hours.Friday                             0.751862\n",
       "hours.Tuesday                            0.745558\n",
       "attributes.BusinessAcceptsCreditCards    0.744413\n",
       "hours.Monday                             0.703955\n",
       "hours.Saturday                           0.664797\n",
       "attributes.RestaurantsPriceRange2        0.567996\n",
       "attributes.BusinessParking               0.548398\n",
       "hours.Sunday                             0.495177\n",
       "attributes.BikeParking                   0.450128\n",
       "neighborhood                             0.364038\n",
       "attributes.GoodForKids                   0.344292\n",
       "attributes.RestaurantsTakeOut            0.324540\n",
       "attributes.OutdoorSeating                0.287291\n",
       "attributes.RestaurantsGoodForGroups      0.285477\n",
       "attributes.WheelchairAccessible          0.275848\n",
       "attributes.RestaurantsDelivery           0.273966\n",
       "attributes.RestaurantsReservations       0.272348\n",
       "attributes.WiFi                          0.259957\n",
       "attributes.RestaurantsAttire             0.255481\n",
       "attributes.Alcohol                       0.253944\n",
       "attributes.Ambience                      0.252273\n",
       "attributes.HasTV                         0.252040\n",
       "attributes.GoodForMeal                   0.251775\n",
       "attributes.ByAppointmentOnly             0.240852\n",
       "attributes.NoiseLevel                    0.231769\n",
       "attributes.RestaurantsTableService       0.229728\n",
       "attributes.Caters                        0.212298\n",
       "attributes.DogsAllowed                   0.072542\n",
       "attributes.BusinessAcceptsBitcoin        0.067203\n",
       "attributes.AcceptsInsurance              0.061885\n",
       "attributes.HappyHour                     0.049233\n",
       "attributes.GoodForDancing                0.048581\n",
       "attributes.Music                         0.046698\n",
       "attributes.CoatCheck                     0.045235\n",
       "attributes.Smoking                       0.043019\n",
       "attributes.BestNights                    0.036290\n",
       "attributes.DriveThru                     0.035813\n",
       "attributes.HairSpecializesIn             0.009974\n",
       "attributes.BYOBCorkage                   0.007471\n",
       "attributes.BYOB                          0.004831\n",
       "attributes.Corkage                       0.003484\n",
       "attributes.AgesAllowed                   0.002105\n",
       "attributes.RestaurantsCounterService     0.002105\n",
       "attributes.Open24Hours                   0.001866\n",
       "attributes.DietaryRestrictions           0.000732\n",
       "hours                                    0.000000\n",
       "attributes                               0.000000\n",
       "dtype: float64"
      ]
     },
     "execution_count": 7,
     "metadata": {},
     "output_type": "execute_result"
    }
   ],
   "source": [
    "\n",
    "business_data.notnull().mean().sort_values(ascending = False)"
   ]
  },
  {
   "cell_type": "markdown",
   "metadata": {},
   "source": [
    "**There are 6 variables have no missing values.**\n",
    "\n",
    "_____"
   ]
  },
  {
   "cell_type": "markdown",
   "metadata": {},
   "source": [
    "### Problem 4: (5 points)\n",
    "\n",
    "<span  style=\"color:purple; font-size:16px\">Use an appropriate visualization technique to analyze the missingness in `business_data`.</span>"
   ]
  },
  {
   "cell_type": "code",
   "execution_count": 8,
   "metadata": {},
   "outputs": [
    {
     "data": {
      "text/plain": [
       "<matplotlib.axes._subplots.AxesSubplot at 0x7ffc5e927cd0>"
      ]
     },
     "execution_count": 8,
     "metadata": {},
     "output_type": "execute_result"
    },
    {
     "data": {
      "image/png": "[encoded data removed]",
      "text/plain": [
       "<Figure size 1008x720 with 1 Axes>"
      ]
     },
     "metadata": {
      "needs_background": "light"
     },
     "output_type": "display_data"
    }
   ],
   "source": [
    "# Use a heatmap, pointplot, or other appropriate visualization here\n",
    "figure, axes = plt.subplots(figsize = (14,10))\n",
    "sns.heatmap(business_data.isnull(), cbar = False)"
   ]
  },
  {
   "cell_type": "markdown",
   "metadata": {},
   "source": [
    "**From the heatma, we can see that there is no missing values in `business_id`, `is_open` , `name`,`review_count`, `stars`, and `state`. Further, we can see that most of columns have missing values. The cloumns `attributes` and `hours` have no any values at all, followed by `attributes.DietaryRestrictions`,`attributes.Open24Hours`, and `attributes.RestaurantsCounterService`.**"
   ]
  },
  {
   "cell_type": "markdown",
   "metadata": {},
   "source": [
    "### Problem 5:\n",
    "\n",
    "<span  style=\"color:purple; font-size:16px\">Drop all columns that contain **only missing values** from `business_data`.</span>"
   ]
  },
  {
   "cell_type": "code",
   "execution_count": 9,
   "metadata": {},
   "outputs": [],
   "source": [
    "\n",
    "business_data.drop(columns = ['attributes','hours'], axis = 1, inplace = True)"
   ]
  },
  {
   "cell_type": "markdown",
   "metadata": {},
   "source": [
    "### Problem 6\n",
    "\n",
    "<span  style=\"color:purple; font-size:16px\">The `business_data` is not in a form that is convenient for analysis. Let's begin by cleaning up the variable names. </span>\n",
    "\n",
    "Tasks:\n",
    "\n",
    "1. Make all column names lowercase.\n",
    "1. Replace all periods `.` with an underscore _"
   ]
  },
  {
   "cell_type": "code",
   "execution_count": 10,
   "metadata": {},
   "outputs": [],
   "source": [
    "\n",
    "business_data.columns = business_data.columns.str.lower().str.replace('.','_')"
   ]
  },
  {
   "cell_type": "markdown",
   "metadata": {},
   "source": [
    "### Problem 7:\n",
    "\n",
    "<span  style=\"color:purple; font-size:16px\">Let's now get rid of columns that we don't need right now. Perform the following transformation steps to the data.</span>\n",
    "\n",
    "1. Drop all `attribute_*` columns except for the `attributes_happyhour` column.\n",
    "1. Create a new column, called `open_on_weekends`, that is a 1 if the business is open on the weekend (has a non-null value for either `hours_saturday` or `hours_sunday`) and 0 otherwise.\n",
    "1. Drop all of the `hours_*` columns after creating the `open_on_weekends` column."
   ]
  },
  {
   "cell_type": "code",
   "execution_count": 11,
   "metadata": {},
   "outputs": [],
   "source": [
    "# Drop all of the unwanted attributes columns\n",
    "business_data.drop([i for i in business_data.columns if i.startswith('attributes') and 'happyhour' not in i], axis = 1,inplace = True)"
   ]
  },
  {
   "cell_type": "code",
   "execution_count": 12,
   "metadata": {},
   "outputs": [],
   "source": [
    "# Create open_on_weekends\n",
    "business_data['open_on_weekends'] = np.where((business_data['hours_saturday'].notnull() | business_data['hours_sunday'].notnull()), 1,0)"
   ]
  },
  {
   "cell_type": "code",
   "execution_count": 13,
   "metadata": {},
   "outputs": [],
   "source": [
    "# Remove hours.* columns\n",
    "business_data.drop([i for i in business_data.columns if i.startswith('hours_')], axis =1, inplace = True)"
   ]
  },
  {
   "cell_type": "markdown",
   "metadata": {},
   "source": [
    "### Problem 8:\n",
    "\n",
    "<span  style=\"color:purple; font-size:16px\">Create a Pandas Series containing the proportion of business in the data by state. (For now, a *state* refers to any level of the `state` variable, not only states in the U.S.A.)</span>"
   ]
  },
  {
   "cell_type": "code",
   "execution_count": 14,
   "metadata": {},
   "outputs": [
    {
     "data": {
      "text/plain": [
       "AZ     0.299560\n",
       "NV     0.189233\n",
       "ON     0.171761\n",
       "NC     0.076138\n",
       "OH     0.072452\n",
       "PA     0.058146\n",
       "QC     0.046428\n",
       "AB     0.040670\n",
       "WI     0.026735\n",
       "IL     0.010271\n",
       "SC     0.004083\n",
       "NYK    0.000864\n",
       "NI     0.000711\n",
       "IN     0.000536\n",
       "OR     0.000382\n",
       "BY     0.000318\n",
       "ST     0.000239\n",
       "CO     0.000228\n",
       "C      0.000180\n",
       "HE     0.000170\n",
       "XGM    0.000122\n",
       "NLK    0.000122\n",
       "NY     0.000101\n",
       "RP     0.000101\n",
       "01     0.000058\n",
       "CA     0.000042\n",
       "VS     0.000037\n",
       "NW     0.000021\n",
       "O      0.000016\n",
       "6      0.000016\n",
       "G      0.000011\n",
       "VT     0.000011\n",
       "SG     0.000011\n",
       "M      0.000011\n",
       "MO     0.000011\n",
       "AL     0.000011\n",
       "B      0.000011\n",
       "AR     0.000011\n",
       "CMA    0.000011\n",
       "WA     0.000011\n",
       "PO     0.000005\n",
       "DE     0.000005\n",
       "4      0.000005\n",
       "MA     0.000005\n",
       "V      0.000005\n",
       "TAM    0.000005\n",
       "VA     0.000005\n",
       "HH     0.000005\n",
       "WHT    0.000005\n",
       "XMS    0.000005\n",
       "GA     0.000005\n",
       "SP     0.000005\n",
       "NE     0.000005\n",
       "AG     0.000005\n",
       "LU     0.000005\n",
       "RCC    0.000005\n",
       "10     0.000005\n",
       "CC     0.000005\n",
       "CRF    0.000005\n",
       "BC     0.000005\n",
       "HU     0.000005\n",
       "11     0.000005\n",
       "CS     0.000005\n",
       "MT     0.000005\n",
       "FL     0.000005\n",
       "KY     0.000005\n",
       "MN     0.000005\n",
       "WAR    0.000005\n",
       "45     0.000005\n",
       "Name: state, dtype: float64"
      ]
     },
     "execution_count": 14,
     "metadata": {},
     "output_type": "execute_result"
    }
   ],
   "source": [
    "# Number of businesses by state\n",
    "state_counts = (business_data.state.value_counts())/len(business_data.state)\n",
    "state_counts"
   ]
  },
  {
   "cell_type": "markdown",
   "metadata": {},
   "source": [
    "<span  style=\"color:purple; font-size:16px\">How many unique states are represented in the data? Are all of them in the United States of America? Do all of the levels of `state` make sense?</span>"
   ]
  },
  {
   "cell_type": "markdown",
   "metadata": {},
   "source": [
    "#### Written Answer:\n",
    "\n",
    "69 unique states are represented in the data. Not all of them in the United States of America, and there are some weird and strange values of states.\n",
    "\n",
    "_____\n"
   ]
  },
  {
   "cell_type": "markdown",
   "metadata": {},
   "source": [
    "### Problem 9:\n",
    "\n",
    "<span  style=\"color:purple; font-size:16px\">These data are fairly large! Let's focus on the data from a few key states. The goal in this exercise is to subset `business_data` to only contain businesses in the 5 states having the largest total number of businesses in the state. (Again, *state* does not need to correspond to a state in the U.S.A. but simply refers to a level of the `state` column.)</span>\n",
    "\n",
    "Tasks:\n",
    "\n",
    "1. Extract the 5 states from `state_counts` with the largest number of businesses\n",
    "2. Subset `business_data` to only contain observations from these top-5 states"
   ]
  },
  {
   "cell_type": "code",
   "execution_count": 15,
   "metadata": {},
   "outputs": [
    {
     "data": {
      "text/html": [
       "<div>\n",
       "<style scoped>\n",
       "    .dataframe tbody tr th:only-of-type {\n",
       "        vertical-align: middle;\n",
       "    }\n",
       "\n",
       "    .dataframe tbody tr th {\n",
       "        vertical-align: top;\n",
       "    }\n",
       "\n",
       "    .dataframe thead th {\n",
       "        text-align: right;\n",
       "    }\n",
       "</style>\n",
       "<table border=\"1\" class=\"dataframe\">\n",
       "  <thead>\n",
       "    <tr style=\"text-align: right;\">\n",
       "      <th></th>\n",
       "      <th>address</th>\n",
       "      <th>attributes_happyhour</th>\n",
       "      <th>business_id</th>\n",
       "      <th>categories</th>\n",
       "      <th>city</th>\n",
       "      <th>is_open</th>\n",
       "      <th>latitude</th>\n",
       "      <th>longitude</th>\n",
       "      <th>name</th>\n",
       "      <th>neighborhood</th>\n",
       "      <th>postal_code</th>\n",
       "      <th>review_count</th>\n",
       "      <th>stars</th>\n",
       "      <th>state</th>\n",
       "      <th>open_on_weekends</th>\n",
       "    </tr>\n",
       "  </thead>\n",
       "  <tbody>\n",
       "    <tr>\n",
       "      <th>1</th>\n",
       "      <td>NaN</td>\n",
       "      <td>NaN</td>\n",
       "      <td>AjEbIBw6ZFfln7ePHha9PA</td>\n",
       "      <td>Chicken Wings, Burgers, Caterers, Street Vendo...</td>\n",
       "      <td>Henderson</td>\n",
       "      <td>0</td>\n",
       "      <td>35.960734</td>\n",
       "      <td>-114.939821</td>\n",
       "      <td>CK'S BBQ &amp; Catering</td>\n",
       "      <td>NaN</td>\n",
       "      <td>89002</td>\n",
       "      <td>3</td>\n",
       "      <td>4.5</td>\n",
       "      <td>NV</td>\n",
       "      <td>1</td>\n",
       "    </tr>\n",
       "    <tr>\n",
       "      <th>3</th>\n",
       "      <td>211 W Monroe St</td>\n",
       "      <td>NaN</td>\n",
       "      <td>bFzdJJ3wp3PZssNEsyU23g</td>\n",
       "      <td>Insurance, Financial Services</td>\n",
       "      <td>Phoenix</td>\n",
       "      <td>1</td>\n",
       "      <td>33.449999</td>\n",
       "      <td>-112.076979</td>\n",
       "      <td>Geico Insurance</td>\n",
       "      <td>NaN</td>\n",
       "      <td>85003</td>\n",
       "      <td>8</td>\n",
       "      <td>1.5</td>\n",
       "      <td>AZ</td>\n",
       "      <td>0</td>\n",
       "    </tr>\n",
       "    <tr>\n",
       "      <th>5</th>\n",
       "      <td>20235 N Cave Creek Rd, Ste 1115</td>\n",
       "      <td>NaN</td>\n",
       "      <td>45bWSZtniwPRiqlivpS8Og</td>\n",
       "      <td>Coffee &amp; Tea, Food</td>\n",
       "      <td>Phoenix</td>\n",
       "      <td>1</td>\n",
       "      <td>33.671375</td>\n",
       "      <td>-112.030017</td>\n",
       "      <td>The Coffee Bean &amp; Tea Leaf</td>\n",
       "      <td>NaN</td>\n",
       "      <td>85024</td>\n",
       "      <td>63</td>\n",
       "      <td>4.0</td>\n",
       "      <td>AZ</td>\n",
       "      <td>1</td>\n",
       "    </tr>\n",
       "    <tr>\n",
       "      <th>6</th>\n",
       "      <td>631 Bloor St W</td>\n",
       "      <td>NaN</td>\n",
       "      <td>9A2quhZLyWk0akUetBd8hQ</td>\n",
       "      <td>Food, Bakeries</td>\n",
       "      <td>Toronto</td>\n",
       "      <td>0</td>\n",
       "      <td>43.664378</td>\n",
       "      <td>-79.414424</td>\n",
       "      <td>Bnc Cake House</td>\n",
       "      <td>Koreatown</td>\n",
       "      <td>M6G 1K8</td>\n",
       "      <td>7</td>\n",
       "      <td>4.0</td>\n",
       "      <td>ON</td>\n",
       "      <td>0</td>\n",
       "    </tr>\n",
       "    <tr>\n",
       "      <th>7</th>\n",
       "      <td>3417 Derry Road E, Unit 103</td>\n",
       "      <td>NaN</td>\n",
       "      <td>6OuOZAok8ikONMS_T3EzXg</td>\n",
       "      <td>Restaurants, Thai</td>\n",
       "      <td>Mississauga</td>\n",
       "      <td>1</td>\n",
       "      <td>43.712946</td>\n",
       "      <td>-79.632763</td>\n",
       "      <td>Thai One On</td>\n",
       "      <td>Ridgewood</td>\n",
       "      <td>L4T 1A8</td>\n",
       "      <td>7</td>\n",
       "      <td>2.0</td>\n",
       "      <td>ON</td>\n",
       "      <td>0</td>\n",
       "    </tr>\n",
       "  </tbody>\n",
       "</table>\n",
       "</div>"
      ],
      "text/plain": [
       "                           address attributes_happyhour             business_id  \\\n",
       "1                              NaN                  NaN  AjEbIBw6ZFfln7ePHha9PA   \n",
       "3                  211 W Monroe St                  NaN  bFzdJJ3wp3PZssNEsyU23g   \n",
       "5  20235 N Cave Creek Rd, Ste 1115                  NaN  45bWSZtniwPRiqlivpS8Og   \n",
       "6                   631 Bloor St W                  NaN  9A2quhZLyWk0akUetBd8hQ   \n",
       "7      3417 Derry Road E, Unit 103                  NaN  6OuOZAok8ikONMS_T3EzXg   \n",
       "\n",
       "                                          categories         city  is_open   latitude   longitude  \\\n",
       "1  Chicken Wings, Burgers, Caterers, Street Vendo...    Henderson        0  35.960734 -114.939821   \n",
       "3                      Insurance, Financial Services      Phoenix        1  33.449999 -112.076979   \n",
       "5                                 Coffee & Tea, Food      Phoenix        1  33.671375 -112.030017   \n",
       "6                                     Food, Bakeries      Toronto        0  43.664378  -79.414424   \n",
       "7                                  Restaurants, Thai  Mississauga        1  43.712946  -79.632763   \n",
       "\n",
       "                         name neighborhood postal_code  review_count  stars state  \\\n",
       "1         CK'S BBQ & Catering          NaN       89002             3    4.5    NV   \n",
       "3             Geico Insurance          NaN       85003             8    1.5    AZ   \n",
       "5  The Coffee Bean & Tea Leaf          NaN       85024            63    4.0    AZ   \n",
       "6              Bnc Cake House    Koreatown     M6G 1K8             7    4.0    ON   \n",
       "7                 Thai One On    Ridgewood     L4T 1A8             7    2.0    ON   \n",
       "\n",
       "   open_on_weekends  \n",
       "1                 1  \n",
       "3                 0  \n",
       "5                 1  \n",
       "6                 0  \n",
       "7                 0  "
      ]
     },
     "execution_count": 15,
     "metadata": {},
     "output_type": "execute_result"
    }
   ],
   "source": [
    "\n",
    "business_data = business_data.loc[business_data.state.isin(state_counts.head(5).index)]\n",
    "business_data.head()"
   ]
  },
  {
   "cell_type": "markdown",
   "metadata": {},
   "source": [
    "### Problem 10:\n",
    "\n",
    "<span  style=\"color:purple; font-size:16px\">Import the `territory_abbr.csv` data which contains a record for every U.S. state and territory. Use this data to **remove** businesses outside of the United States *by* performing an appropriate **merge** with `business_data`. Assign the remaining data to a DataFrame called `business_data_subset`.</span>\n",
    "\n",
    "(Of course...you could probably figure out what state(s) need to be removed just by looking at them. The point is to demonstrate that you can use `merge()` and any necessary arguments to accomplish the task. Also...don't mess up your tidy data! Though not necessary for full credit, you may want to remove/modify columns that are not lowercase.)"
   ]
  },
  {
   "cell_type": "code",
   "execution_count": 16,
   "metadata": {},
   "outputs": [
    {
     "data": {
      "text/html": [
       "<div>\n",
       "<style scoped>\n",
       "    .dataframe tbody tr th:only-of-type {\n",
       "        vertical-align: middle;\n",
       "    }\n",
       "\n",
       "    .dataframe tbody tr th {\n",
       "        vertical-align: top;\n",
       "    }\n",
       "\n",
       "    .dataframe thead th {\n",
       "        text-align: right;\n",
       "    }\n",
       "</style>\n",
       "<table border=\"1\" class=\"dataframe\">\n",
       "  <thead>\n",
       "    <tr style=\"text-align: right;\">\n",
       "      <th></th>\n",
       "      <th>State</th>\n",
       "      <th>Abbreviation</th>\n",
       "    </tr>\n",
       "  </thead>\n",
       "  <tbody>\n",
       "    <tr>\n",
       "      <th>0</th>\n",
       "      <td>Alabama</td>\n",
       "      <td>AL</td>\n",
       "    </tr>\n",
       "    <tr>\n",
       "      <th>1</th>\n",
       "      <td>Alaska</td>\n",
       "      <td>AK</td>\n",
       "    </tr>\n",
       "    <tr>\n",
       "      <th>2</th>\n",
       "      <td>Arizona</td>\n",
       "      <td>AZ</td>\n",
       "    </tr>\n",
       "    <tr>\n",
       "      <th>3</th>\n",
       "      <td>Arkansas</td>\n",
       "      <td>AR</td>\n",
       "    </tr>\n",
       "    <tr>\n",
       "      <th>4</th>\n",
       "      <td>California</td>\n",
       "      <td>CA</td>\n",
       "    </tr>\n",
       "  </tbody>\n",
       "</table>\n",
       "</div>"
      ],
      "text/plain": [
       "        State Abbreviation\n",
       "0     Alabama           AL\n",
       "1      Alaska           AK\n",
       "2     Arizona           AZ\n",
       "3    Arkansas           AR\n",
       "4  California           CA"
      ]
     },
     "execution_count": 16,
     "metadata": {},
     "output_type": "execute_result"
    }
   ],
   "source": [
    "# Read in data\n",
    "us_data = pd.read_csv('data-sets/territory_abbr.csv')\n",
    "us_data.head()"
   ]
  },
  {
   "cell_type": "code",
   "execution_count": 17,
   "metadata": {},
   "outputs": [],
   "source": [
    "\n",
    "us_data.columns = us_data.columns.str.lower()\n",
    "business_data_subset = business_data.merge(us_data, left_on = 'state', right_on = 'abbreviation', how = 'inner')"
   ]
  },
  {
   "cell_type": "code",
   "execution_count": 18,
   "metadata": {},
   "outputs": [],
   "source": [
    "business_data_subset.drop('state_x', axis = 1,inplace = True)\n",
    "business_data_subset.rename(columns = {'state_y':'state','abbreviation':'abbr'}, inplace = True)"
   ]
  },
  {
   "cell_type": "code",
   "execution_count": 19,
   "metadata": {},
   "outputs": [
    {
     "data": {
      "text/html": [
       "<div>\n",
       "<style scoped>\n",
       "    .dataframe tbody tr th:only-of-type {\n",
       "        vertical-align: middle;\n",
       "    }\n",
       "\n",
       "    .dataframe tbody tr th {\n",
       "        vertical-align: top;\n",
       "    }\n",
       "\n",
       "    .dataframe thead th {\n",
       "        text-align: right;\n",
       "    }\n",
       "</style>\n",
       "<table border=\"1\" class=\"dataframe\">\n",
       "  <thead>\n",
       "    <tr style=\"text-align: right;\">\n",
       "      <th></th>\n",
       "      <th>address</th>\n",
       "      <th>attributes_happyhour</th>\n",
       "      <th>business_id</th>\n",
       "      <th>categories</th>\n",
       "      <th>city</th>\n",
       "      <th>is_open</th>\n",
       "      <th>latitude</th>\n",
       "      <th>longitude</th>\n",
       "      <th>name</th>\n",
       "      <th>neighborhood</th>\n",
       "      <th>postal_code</th>\n",
       "      <th>review_count</th>\n",
       "      <th>stars</th>\n",
       "      <th>open_on_weekends</th>\n",
       "      <th>state</th>\n",
       "      <th>abbr</th>\n",
       "    </tr>\n",
       "  </thead>\n",
       "  <tbody>\n",
       "    <tr>\n",
       "      <th>0</th>\n",
       "      <td>NaN</td>\n",
       "      <td>NaN</td>\n",
       "      <td>AjEbIBw6ZFfln7ePHha9PA</td>\n",
       "      <td>Chicken Wings, Burgers, Caterers, Street Vendo...</td>\n",
       "      <td>Henderson</td>\n",
       "      <td>0</td>\n",
       "      <td>35.960734</td>\n",
       "      <td>-114.939821</td>\n",
       "      <td>CK'S BBQ &amp; Catering</td>\n",
       "      <td>NaN</td>\n",
       "      <td>89002</td>\n",
       "      <td>3</td>\n",
       "      <td>4.5</td>\n",
       "      <td>1</td>\n",
       "      <td>Nevada</td>\n",
       "      <td>NV</td>\n",
       "    </tr>\n",
       "    <tr>\n",
       "      <th>1</th>\n",
       "      <td>703 N Rancho Dr</td>\n",
       "      <td>NaN</td>\n",
       "      <td>hTzcHtk4-0QJnFUbkKpd5Q</td>\n",
       "      <td>Shopping, Fashion, Department Stores</td>\n",
       "      <td>Las Vegas</td>\n",
       "      <td>1</td>\n",
       "      <td>36.178348</td>\n",
       "      <td>-115.176916</td>\n",
       "      <td>Citi Trends</td>\n",
       "      <td>NaN</td>\n",
       "      <td>89106</td>\n",
       "      <td>4</td>\n",
       "      <td>4.0</td>\n",
       "      <td>0</td>\n",
       "      <td>Nevada</td>\n",
       "      <td>NV</td>\n",
       "    </tr>\n",
       "    <tr>\n",
       "      <th>2</th>\n",
       "      <td>1549 N Rancho Dr</td>\n",
       "      <td>NaN</td>\n",
       "      <td>UwIpS9UKsPiKAv1fiEYhqg</td>\n",
       "      <td>Financial Services, Check Cashing/Pay-day Loan...</td>\n",
       "      <td>Las Vegas</td>\n",
       "      <td>1</td>\n",
       "      <td>36.188386</td>\n",
       "      <td>-115.186124</td>\n",
       "      <td>Nevada Title And Payday Loans</td>\n",
       "      <td>NaN</td>\n",
       "      <td>89106</td>\n",
       "      <td>4</td>\n",
       "      <td>1.0</td>\n",
       "      <td>1</td>\n",
       "      <td>Nevada</td>\n",
       "      <td>NV</td>\n",
       "    </tr>\n",
       "    <tr>\n",
       "      <th>3</th>\n",
       "      <td>3940 Martin Luther King Blvd, Ste 101</td>\n",
       "      <td>NaN</td>\n",
       "      <td>vJIuDBdu01vCA8y1fwR1OQ</td>\n",
       "      <td>American (Traditional), Food, Bakeries, Restau...</td>\n",
       "      <td>Las Vegas</td>\n",
       "      <td>0</td>\n",
       "      <td>36.192284</td>\n",
       "      <td>-115.159272</td>\n",
       "      <td>CakesbyToi</td>\n",
       "      <td>NaN</td>\n",
       "      <td>89106</td>\n",
       "      <td>3</td>\n",
       "      <td>1.5</td>\n",
       "      <td>1</td>\n",
       "      <td>Nevada</td>\n",
       "      <td>NV</td>\n",
       "    </tr>\n",
       "    <tr>\n",
       "      <th>4</th>\n",
       "      <td>NaN</td>\n",
       "      <td>NaN</td>\n",
       "      <td>YZCHr68c5aEVHz0bkq9K2g</td>\n",
       "      <td>Home Services, Masonry/Concrete, Professional ...</td>\n",
       "      <td>Las Vegas</td>\n",
       "      <td>1</td>\n",
       "      <td>36.260816</td>\n",
       "      <td>-115.171130</td>\n",
       "      <td>Park Stone Pavers</td>\n",
       "      <td>NaN</td>\n",
       "      <td>89031</td>\n",
       "      <td>20</td>\n",
       "      <td>5.0</td>\n",
       "      <td>0</td>\n",
       "      <td>Nevada</td>\n",
       "      <td>NV</td>\n",
       "    </tr>\n",
       "  </tbody>\n",
       "</table>\n",
       "</div>"
      ],
      "text/plain": [
       "                                 address attributes_happyhour             business_id  \\\n",
       "0                                    NaN                  NaN  AjEbIBw6ZFfln7ePHha9PA   \n",
       "1                        703 N Rancho Dr                  NaN  hTzcHtk4-0QJnFUbkKpd5Q   \n",
       "2                       1549 N Rancho Dr                  NaN  UwIpS9UKsPiKAv1fiEYhqg   \n",
       "3  3940 Martin Luther King Blvd, Ste 101                  NaN  vJIuDBdu01vCA8y1fwR1OQ   \n",
       "4                                    NaN                  NaN  YZCHr68c5aEVHz0bkq9K2g   \n",
       "\n",
       "                                          categories       city  is_open   latitude   longitude  \\\n",
       "0  Chicken Wings, Burgers, Caterers, Street Vendo...  Henderson        0  35.960734 -114.939821   \n",
       "1               Shopping, Fashion, Department Stores  Las Vegas        1  36.178348 -115.176916   \n",
       "2  Financial Services, Check Cashing/Pay-day Loan...  Las Vegas        1  36.188386 -115.186124   \n",
       "3  American (Traditional), Food, Bakeries, Restau...  Las Vegas        0  36.192284 -115.159272   \n",
       "4  Home Services, Masonry/Concrete, Professional ...  Las Vegas        1  36.260816 -115.171130   \n",
       "\n",
       "                            name neighborhood postal_code  review_count  stars  open_on_weekends  \\\n",
       "0            CK'S BBQ & Catering          NaN       89002             3    4.5                 1   \n",
       "1                    Citi Trends          NaN       89106             4    4.0                 0   \n",
       "2  Nevada Title And Payday Loans          NaN       89106             4    1.0                 1   \n",
       "3                     CakesbyToi          NaN       89106             3    1.5                 1   \n",
       "4              Park Stone Pavers          NaN       89031            20    5.0                 0   \n",
       "\n",
       "    state abbr  \n",
       "0  Nevada   NV  \n",
       "1  Nevada   NV  \n",
       "2  Nevada   NV  \n",
       "3  Nevada   NV  \n",
       "4  Nevada   NV  "
      ]
     },
     "execution_count": 19,
     "metadata": {},
     "output_type": "execute_result"
    }
   ],
   "source": [
    "business_data_subset.head()"
   ]
  },
  {
   "cell_type": "markdown",
   "metadata": {},
   "source": [
    "<span  style=\"color:purple; font-size:16px\">How many unique U.S. states are left in the data?</span>"
   ]
  },
  {
   "cell_type": "code",
   "execution_count": 20,
   "metadata": {},
   "outputs": [
    {
     "data": {
      "text/plain": [
       "Arizona           56495\n",
       "Nevada            35688\n",
       "North Carolina    14359\n",
       "Ohio              13664\n",
       "Name: state, dtype: int64"
      ]
     },
     "execution_count": 20,
     "metadata": {},
     "output_type": "execute_result"
    }
   ],
   "source": [
    "\n",
    "business_data_subset.state.value_counts()"
   ]
  },
  {
   "cell_type": "markdown",
   "metadata": {},
   "source": [
    "**4 unique U.S. states are left in the data.**\n",
    "\n",
    "_____"
   ]
  },
  {
   "cell_type": "markdown",
   "metadata": {},
   "source": [
    "## 2 - Analysis\n",
    "\n",
    "---"
   ]
  },
  {
   "cell_type": "markdown",
   "metadata": {},
   "source": [
    "### Problem 11: \n",
    "\n",
    "<span  style=\"color:purple; font-size:16px\">Do businesses with more reviews tend to have higher ratings? </span> \n",
    "\n",
    "<span  style=\"color:purple; font-size:16px\">To help answer this question, use `business_data` to create *side-by-side notched boxplots* to visualize the relationship between the number of reviews left for the business (`review_count`, y-axis) and the rating of the business (`stars`, x-axis).</span> \n",
    "    \n",
    "<span  style=\"color:purple; font-size:16px\">**Note: use `ax.set_yscale('log')` to set the scale of the y-axis to be logarithmic due to extreme variation in the number of reviews left for the businesses. This means you must specify a figure and axes object using `fig, ax = plt.subplots(figsize=(10, 10))`**</span>\n",
    "    \n",
    "<span>Make sure to use appropriate axes labels and include an appropriate title. Make the figure 10 units tall and 10 units wide.</span>"
   ]
  },
  {
   "cell_type": "code",
   "execution_count": 21,
   "metadata": {
    "scrolled": false
   },
   "outputs": [
    {
     "data": {
      "text/plain": [
       "Text(0, 0.5, 'Review Count')"
      ]
     },
     "execution_count": 21,
     "metadata": {},
     "output_type": "execute_result"
    },
    {
     "data": {
      "image/png": "[encoded data removed]",
      "text/plain": [
       "<Figure size 720x720 with 1 Axes>"
      ]
     },
     "metadata": {
      "needs_background": "light"
     },
     "output_type": "display_data"
    }
   ],
   "source": [
    "\n",
    "fig, ax = plt.subplots(figsize=(10,10))\n",
    "sns.boxplot(data = business_data,\n",
    "           y = 'review_count',\n",
    "           x = 'stars',\n",
    "           notch = True)\n",
    "ax.set_yscale('log')\n",
    "ax.set_title('Relationship Between Number of Reviews and the Rating of the Business', fontsize = 15)\n",
    "ax.set_xlabel('Business Rating',fontsize = 15)\n",
    "ax.set_ylabel('Review Count', fontsize =15)"
   ]
  },
  {
   "cell_type": "markdown",
   "metadata": {},
   "source": [
    "<span  style=\"color:purple; font-size:16px\">Describe what you see in the plot and formulate a hypothesis about why the relationship between these variables looks the way it does.</span>"
   ]
  },
  {
   "cell_type": "markdown",
   "metadata": {},
   "source": [
    "#### Written Answer:\n",
    "\n",
    "From the above graph, we can see that the rating shows a gradually increase pattern as the number of review count get bigger until the rating reach 4.0, the decreases. My assumption is that Yelp users will aggressively provide reviews proportionate to the rating. However, once they have enough number of higher ratings(such as 5.0), they would less likely to show similar frequency of review activity.\n",
    "\n",
    "_____"
   ]
  },
  {
   "cell_type": "markdown",
   "metadata": {},
   "source": [
    "### Problem 12:\n",
    "\n",
    "<span  style=\"color:purple; font-size:16px\">The `categories` column of `business_data_subset` contains a *comma separated* list of various keyword categories for each business. Use an appropriate Python data structure to iterate over every row of the data and determine all of the unique categories as well as the number of times each category appears, sorted from most common category to least common category.</span>\n",
    "\n",
    "Your result should look like the following:\n",
    "\n",
    "<pre>\n",
    "Restaurants                  234\n",
    "Shopping                     173\n",
    "Home Services                132\n",
    "Food                         120\n",
    "Health & Medical              92\n",
    ".\n",
    ".\n",
    "."
   ]
  },
  {
   "cell_type": "code",
   "execution_count": 22,
   "metadata": {},
   "outputs": [
    {
     "data": {
      "text/plain": [
       "Restaurants             27708\n",
       "Shopping                19978\n",
       "Home Services           15731\n",
       "Food                    14051\n",
       "Beauty & Spas           12980\n",
       "                        ...  \n",
       "Drive-Thru Bars             1\n",
       "Czech                       1\n",
       "Hearing Aids                1\n",
       "Makerspaces                 1\n",
       "Hong Kong Style Cafe        1\n",
       "Length: 1261, dtype: int64"
      ]
     },
     "execution_count": 22,
     "metadata": {},
     "output_type": "execute_result"
    }
   ],
   "source": [
    "# Your code here\n",
    "full_list=[]\n",
    "for i in range(len(business_data_subset)):\n",
    "    for j in str(business_data_subset.loc[i,'categories']).split(','):\n",
    "            full_list.append(j)\n",
    "            \n",
    "categories_data = pd.Series(full_list).str.strip().value_counts()\n",
    "categories_data"
   ]
  },
  {
   "cell_type": "markdown",
   "metadata": {},
   "source": [
    "<span  style=\"color:purple; font-size:16px\">How many distinct categories are in `business_data_subset`?</span>"
   ]
  },
  {
   "cell_type": "code",
   "execution_count": 23,
   "metadata": {},
   "outputs": [
    {
     "data": {
      "text/plain": [
       "1261"
      ]
     },
     "execution_count": 23,
     "metadata": {},
     "output_type": "execute_result"
    }
   ],
   "source": [
    "# Number of distinct categories equal to the number of rows\n",
    "len(categories_data)"
   ]
  },
  {
   "cell_type": "markdown",
   "metadata": {},
   "source": [
    "### Problem 13:\n",
    "\n",
    "<span  style=\"color:purple; font-size:16px\">For this question, we want to see if we can use the `categories` variable from the `business_data_subset` table to extract the records belonging to **food establishments** - any place that someone could go to get a freshly prepared meal.</span>\n",
    "\n",
    "<span  style=\"color:purple; font-size:16px\">Create a copy of the Pandas DataFrame called `food_establishments` which contains all business in `business_data_subset` that contain either *dining* or *restaurant* in their list of categories. (Make sure to ignore case.) How many food establishments are captured using this method?</span>\n",
    "\n",
    "Hint: This can be accomplished in at least two ways. No reasonable method is bad! Create a new variable and use it to filter observations or directly subset the data. Your choice!"
   ]
  },
  {
   "cell_type": "code",
   "execution_count": 24,
   "metadata": {},
   "outputs": [
    {
     "data": {
      "text/plain": [
       "27724"
      ]
     },
     "execution_count": 24,
     "metadata": {},
     "output_type": "execute_result"
    }
   ],
   "source": [
    "\n",
    "food_establishments = business_data_subset[business_data_subset.categories.str.lower().str.strip().str.contains('dining|restaurant', na=False, regex = True)]\n",
    "len(food_establishments)"
   ]
  },
  {
   "cell_type": "markdown",
   "metadata": {},
   "source": [
    "### Problem 14:\n",
    "\n",
    "<span  style=\"color:purple; font-size:16px\">Using the `food_establishments` table, create a table with `stars` as the index, `state` as the columns, and the conditional `stars` distribution of food establishments for each `state` as values.</span>\n",
    "\n",
    "<span  style=\"color:purple; font-size:16px\">Include the marginal `stars` distribution in your table by using the appropriate `margins` argument. Create a valid conditional `stars` distribution for each state using the `normalize = 'columns'` argument.</span>\n",
    "\n",
    "You can check that you have successfully create valid conditional `stars` distributions for each state by verifying each column sums to 1. \n",
    "\n",
    "Your final table should look similar to the table below with the appropriate values imputed for `val`.\n",
    "\n",
    "| state  \t|  AZ \t| NV  \t| NC  \t| OH  | All |\n",
    "|---\t|---\t|---\t|---\t|---  |---  |\n",
    "|   stars \t|\n",
    "|   1 \t|   val\t|  val \t|  val \t| val   | val    |\n",
    "|   1.5\t|   val\t|  val\t|  val \t| val   | val    |\n",
    "|   2\t|   val\t|  val \t|  val \t| val   | val    |\n",
    "|   2.5\t|   val\t|  val\t|  val \t| val   | val    |\n",
    "|   3\t|   val\t|  val \t|  val \t| val   | val    |\n",
    "|   3.5\t|   val\t|  val\t|  val \t| val   | val    |\n",
    "|   4\t|   val\t|  val \t|  val \t| val   | val    |\n",
    "|   4.5\t|   val\t|  val \t|  val \t| val   | val    |\n",
    "|   5\t|   val\t|  val \t|  val \t| val   | val    |"
   ]
  },
  {
   "cell_type": "code",
   "execution_count": 25,
   "metadata": {},
   "outputs": [
    {
     "data": {
      "text/html": [
       "<div>\n",
       "<style scoped>\n",
       "    .dataframe tbody tr th:only-of-type {\n",
       "        vertical-align: middle;\n",
       "    }\n",
       "\n",
       "    .dataframe tbody tr th {\n",
       "        vertical-align: top;\n",
       "    }\n",
       "\n",
       "    .dataframe thead th {\n",
       "        text-align: right;\n",
       "    }\n",
       "</style>\n",
       "<table border=\"1\" class=\"dataframe\">\n",
       "  <thead>\n",
       "    <tr style=\"text-align: right;\">\n",
       "      <th>abbr</th>\n",
       "      <th>AZ</th>\n",
       "      <th>NC</th>\n",
       "      <th>NV</th>\n",
       "      <th>OH</th>\n",
       "      <th>All</th>\n",
       "    </tr>\n",
       "    <tr>\n",
       "      <th>stars</th>\n",
       "      <th></th>\n",
       "      <th></th>\n",
       "      <th></th>\n",
       "      <th></th>\n",
       "      <th></th>\n",
       "    </tr>\n",
       "  </thead>\n",
       "  <tbody>\n",
       "    <tr>\n",
       "      <th>1.0</th>\n",
       "      <td>0.006136</td>\n",
       "      <td>0.009119</td>\n",
       "      <td>0.003765</td>\n",
       "      <td>0.012701</td>\n",
       "      <td>0.007142</td>\n",
       "    </tr>\n",
       "    <tr>\n",
       "      <th>1.5</th>\n",
       "      <td>0.024274</td>\n",
       "      <td>0.029998</td>\n",
       "      <td>0.022862</td>\n",
       "      <td>0.026196</td>\n",
       "      <td>0.025105</td>\n",
       "    </tr>\n",
       "    <tr>\n",
       "      <th>2.0</th>\n",
       "      <td>0.064248</td>\n",
       "      <td>0.062155</td>\n",
       "      <td>0.062668</td>\n",
       "      <td>0.061520</td>\n",
       "      <td>0.063014</td>\n",
       "    </tr>\n",
       "    <tr>\n",
       "      <th>2.5</th>\n",
       "      <td>0.107562</td>\n",
       "      <td>0.106791</td>\n",
       "      <td>0.103685</td>\n",
       "      <td>0.109149</td>\n",
       "      <td>0.106695</td>\n",
       "    </tr>\n",
       "    <tr>\n",
       "      <th>3.0</th>\n",
       "      <td>0.176051</td>\n",
       "      <td>0.183345</td>\n",
       "      <td>0.166218</td>\n",
       "      <td>0.167494</td>\n",
       "      <td>0.172955</td>\n",
       "    </tr>\n",
       "    <tr>\n",
       "      <th>3.5</th>\n",
       "      <td>0.232990</td>\n",
       "      <td>0.235661</td>\n",
       "      <td>0.237090</td>\n",
       "      <td>0.237150</td>\n",
       "      <td>0.235247</td>\n",
       "    </tr>\n",
       "    <tr>\n",
       "      <th>4.0</th>\n",
       "      <td>0.248150</td>\n",
       "      <td>0.234941</td>\n",
       "      <td>0.246369</td>\n",
       "      <td>0.240524</td>\n",
       "      <td>0.244301</td>\n",
       "    </tr>\n",
       "    <tr>\n",
       "      <th>4.5</th>\n",
       "      <td>0.114781</td>\n",
       "      <td>0.111831</td>\n",
       "      <td>0.126950</td>\n",
       "      <td>0.118674</td>\n",
       "      <td>0.118309</td>\n",
       "    </tr>\n",
       "    <tr>\n",
       "      <th>5.0</th>\n",
       "      <td>0.025808</td>\n",
       "      <td>0.026158</td>\n",
       "      <td>0.030393</td>\n",
       "      <td>0.026593</td>\n",
       "      <td>0.027233</td>\n",
       "    </tr>\n",
       "  </tbody>\n",
       "</table>\n",
       "</div>"
      ],
      "text/plain": [
       "abbr         AZ        NC        NV        OH       All\n",
       "stars                                                  \n",
       "1.0    0.006136  0.009119  0.003765  0.012701  0.007142\n",
       "1.5    0.024274  0.029998  0.022862  0.026196  0.025105\n",
       "2.0    0.064248  0.062155  0.062668  0.061520  0.063014\n",
       "2.5    0.107562  0.106791  0.103685  0.109149  0.106695\n",
       "3.0    0.176051  0.183345  0.166218  0.167494  0.172955\n",
       "3.5    0.232990  0.235661  0.237090  0.237150  0.235247\n",
       "4.0    0.248150  0.234941  0.246369  0.240524  0.244301\n",
       "4.5    0.114781  0.111831  0.126950  0.118674  0.118309\n",
       "5.0    0.025808  0.026158  0.030393  0.026593  0.027233"
      ]
     },
     "execution_count": 25,
     "metadata": {},
     "output_type": "execute_result"
    }
   ],
   "source": [
    "\n",
    "food_establishments_state = pd.crosstab(index=food_establishments['stars'],\n",
    "            columns = food_establishments['abbr'], \n",
    "            values = food_establishments['review_count'],\n",
    "            aggfunc = 'count',\n",
    "            normalize = 'columns', \n",
    "            margins = True)\n",
    "food_establishments_state"
   ]
  },
  {
   "cell_type": "markdown",
   "metadata": {},
   "source": [
    "### Problem 15:\n",
    "\n",
    "<span  style=\"color:purple; font-size:16px\">Is there a difference in the rating distribution (`stars`) of food establishments by state?</span>\n",
    "\n",
    "<span  style=\"color:purple; font-size:16px\">Use the table you created in the previous problem to create an appropriate visualization that helps you to answer the above question.</span>"
   ]
  },
  {
   "cell_type": "code",
   "execution_count": 26,
   "metadata": {},
   "outputs": [
    {
     "data": {
      "text/plain": [
       "<matplotlib.legend.Legend at 0x7ffc141686d0>"
      ]
     },
     "execution_count": 26,
     "metadata": {},
     "output_type": "execute_result"
    },
    {
     "data": {
      "image/png": "[encoded data removed]",
      "text/plain": [
       "<Figure size 720x576 with 1 Axes>"
      ]
     },
     "metadata": {
      "needs_background": "light"
     },
     "output_type": "display_data"
    }
   ],
   "source": [
    "\n",
    "food_establishments_state.T.plot(kind='bar',stacked=True, figsize = (10,8))\n",
    "plt.legend(loc='upper center', bbox_to_anchor=(1.1, 1), ncol=1, title = 'rating')"
   ]
  },
  {
   "cell_type": "markdown",
   "metadata": {},
   "source": [
    "From the graph, we can see that there is no significant difference in the rating distribution of food establishments by the 4 states.\n",
    "\n",
    "_____"
   ]
  },
  {
   "cell_type": "markdown",
   "metadata": {},
   "source": [
    "### Problem 16:\n",
    "\n",
    "<span  style=\"color:purple; font-size:16px\">Using the `food_establishments` data, calculate the *median*, *mean*, *standard deviation*, *minimum*, *maximum*, and *number of observations* for food establishments with/without a *Happy Hour* by using the `attributes_happyhour` variable.</span>"
   ]
  },
  {
   "cell_type": "code",
   "execution_count": 27,
   "metadata": {},
   "outputs": [
    {
     "data": {
      "text/html": [
       "<div>\n",
       "<style scoped>\n",
       "    .dataframe tbody tr th:only-of-type {\n",
       "        vertical-align: middle;\n",
       "    }\n",
       "\n",
       "    .dataframe tbody tr th {\n",
       "        vertical-align: top;\n",
       "    }\n",
       "\n",
       "    .dataframe thead tr th {\n",
       "        text-align: left;\n",
       "    }\n",
       "\n",
       "    .dataframe thead tr:last-of-type th {\n",
       "        text-align: right;\n",
       "    }\n",
       "</style>\n",
       "<table border=\"1\" class=\"dataframe\">\n",
       "  <thead>\n",
       "    <tr>\n",
       "      <th></th>\n",
       "      <th colspan=\"6\" halign=\"left\">review_count</th>\n",
       "      <th colspan=\"6\" halign=\"left\">stars</th>\n",
       "    </tr>\n",
       "    <tr>\n",
       "      <th></th>\n",
       "      <th>max</th>\n",
       "      <th>median</th>\n",
       "      <th>mean</th>\n",
       "      <th>count</th>\n",
       "      <th>min</th>\n",
       "      <th>std</th>\n",
       "      <th>max</th>\n",
       "      <th>median</th>\n",
       "      <th>mean</th>\n",
       "      <th>count</th>\n",
       "      <th>min</th>\n",
       "      <th>std</th>\n",
       "    </tr>\n",
       "    <tr>\n",
       "      <th>attributes_happyhour</th>\n",
       "      <th></th>\n",
       "      <th></th>\n",
       "      <th></th>\n",
       "      <th></th>\n",
       "      <th></th>\n",
       "      <th></th>\n",
       "      <th></th>\n",
       "      <th></th>\n",
       "      <th></th>\n",
       "      <th></th>\n",
       "      <th></th>\n",
       "      <th></th>\n",
       "    </tr>\n",
       "  </thead>\n",
       "  <tbody>\n",
       "    <tr>\n",
       "      <th>False</th>\n",
       "      <td>3975</td>\n",
       "      <td>64</td>\n",
       "      <td>177.542529</td>\n",
       "      <td>435</td>\n",
       "      <td>3</td>\n",
       "      <td>338.276705</td>\n",
       "      <td>5.0</td>\n",
       "      <td>4.0</td>\n",
       "      <td>3.678161</td>\n",
       "      <td>435</td>\n",
       "      <td>1.5</td>\n",
       "      <td>0.655432</td>\n",
       "    </tr>\n",
       "    <tr>\n",
       "      <th>True</th>\n",
       "      <td>3048</td>\n",
       "      <td>78</td>\n",
       "      <td>161.087341</td>\n",
       "      <td>3057</td>\n",
       "      <td>3</td>\n",
       "      <td>252.562845</td>\n",
       "      <td>5.0</td>\n",
       "      <td>3.5</td>\n",
       "      <td>3.505561</td>\n",
       "      <td>3057</td>\n",
       "      <td>1.0</td>\n",
       "      <td>0.620838</td>\n",
       "    </tr>\n",
       "  </tbody>\n",
       "</table>\n",
       "</div>"
      ],
      "text/plain": [
       "                     review_count                                          stars                   \\\n",
       "                              max median        mean count min         std   max median      mean   \n",
       "attributes_happyhour                                                                                \n",
       "False                        3975     64  177.542529   435   3  338.276705   5.0    4.0  3.678161   \n",
       "True                         3048     78  161.087341  3057   3  252.562845   5.0    3.5  3.505561   \n",
       "\n",
       "                                           \n",
       "                     count  min       std  \n",
       "attributes_happyhour                       \n",
       "False                  435  1.5  0.655432  \n",
       "True                  3057  1.0  0.620838  "
      ]
     },
     "execution_count": 27,
     "metadata": {},
     "output_type": "execute_result"
    }
   ],
   "source": [
    "\n",
    "food_establishments.groupby('attributes_happyhour')[['review_count','stars']].agg({'min','max','mean','median','std','count'})"
   ]
  },
  {
   "cell_type": "markdown",
   "metadata": {},
   "source": [
    "<span  style=\"color:purple; font-size:16px\">Describe any differences you find for food establishments having a *Happy Hour* and those that do not. Do food establishments with a happy hour seem to typically be higher or lower rated than food establishments without a happy hour? Do most food establishments offer a happy hour?</span>"
   ]
  },
  {
   "cell_type": "markdown",
   "metadata": {},
   "source": [
    "#### Written Answer:\n",
    "\n",
    "+ Based on the information above, we can see that food establishment with a happy hour seem to typically be lower rated than without a happy hour. \n",
    "+ Yes, most food establishments offer a happy hour.\n",
    "\n",
    "_____"
   ]
  },
  {
   "cell_type": "markdown",
   "metadata": {},
   "source": [
    "### Problem 17:\n",
    "\n",
    "<span  style=\"color:purple; font-size:16px\">Let's investigate differences in food establishments with/without a Happy Hour using an appropriate visualization.</span>\n",
    "    \n",
    "<span  style=\"color:purple; font-size:16px\">First, create a new variable for the `food_establishments` table called `binned_review_count` that bins the `review_count` variable as: \n",
    "    \n",
    " + '[0-10]' = having between 0 and 10 reviews inclusive\n",
    " + '(10,100]' = having between 10 and 100 reviews\n",
    " + '(100,1,000]' = having between 100 and 1,000 reviews\n",
    " + '1,000 +` = more than one thousand reviews.\n",
    "</span>\n",
    "\n",
    "<span  style=\"color:purple; font-size:16px\">Create a side-by-side violin plot with `binned_review_count` on the y-axis, `stars` on the x-axis, and allow the rating distributions to differ for establishments **with and without a Happy Hour** by using the `split = True` argument. As always, provide an appropriate title and axes labels.</span>"
   ]
  },
  {
   "cell_type": "code",
   "execution_count": 28,
   "metadata": {},
   "outputs": [
    {
     "name": "stderr",
     "output_type": "stream",
     "text": [
      "/Users/tt/opt/anaconda3/lib/python3.7/site-packages/ipykernel_launcher.py:3: SettingWithCopyWarning: \n",
      "A value is trying to be set on a copy of a slice from a DataFrame.\n",
      "Try using .loc[row_indexer,col_indexer] = value instead\n",
      "\n",
      "See the caveats in the documentation: https://pandas.pydata.org/pandas-docs/stable/user_guide/indexing.html#returning-a-view-versus-a-copy\n",
      "  This is separate from the ipykernel package so we can avoid doing imports until\n"
     ]
    }
   ],
   "source": [
    "\n",
    "food_establishments['binned_review_count'] = pd.cut(food_establishments['review_count'],\n",
    "                                                    bins = [0,10,100,1000,np.inf], \n",
    "                                                    labels= ['[0-10]','(10,100]','(100,1,000]','1,000+'])"
   ]
  },
  {
   "cell_type": "code",
   "execution_count": 29,
   "metadata": {},
   "outputs": [
    {
     "data": {
      "text/plain": [
       "<matplotlib.legend.Legend at 0x7ffc13d25f90>"
      ]
     },
     "execution_count": 29,
     "metadata": {},
     "output_type": "execute_result"
    },
    {
     "data": {
      "image/png": "[encoded data removed]",
      "text/plain": [
       "<Figure size 720x576 with 1 Axes>"
      ]
     },
     "metadata": {
      "needs_background": "light"
     },
     "output_type": "display_data"
    }
   ],
   "source": [
    "fig, ax = plt.subplots(figsize = (10,8))\n",
    "\n",
    "sns.violinplot(data = food_establishments,\n",
    "               x = 'stars',\n",
    "               y = 'binned_review_count',\n",
    "               hue = 'attributes_happyhour',\n",
    "               split = True)\n",
    "ax.set_title('Rating Distribution With and Without Happy Hour', fontsize = 20)\n",
    "ax.set_xlabel('Rating', fontsize = 15)\n",
    "ax.set_ylabel('Review Count', fontsize = 15),\n",
    "plt.legend(loc = 'upper right', bbox_to_anchor=(1.2, 1), title = 'Happy Hour', facecolor = 'white', edgecolor = 'black')"
   ]
  },
  {
   "cell_type": "markdown",
   "metadata": {},
   "source": [
    "Describe what you see in the plot."
   ]
  },
  {
   "cell_type": "markdown",
   "metadata": {},
   "source": [
    "#### Written Answer:\n",
    "\n",
    "From the graph, we can see that the split distribution of without offering happy hour tend to be having better rate than food establishments offer happy hour in review count of (10,100] and (100,1000]. \n",
    "\n",
    "\n",
    "____\n"
   ]
  },
  {
   "cell_type": "markdown",
   "metadata": {},
   "source": [
    "### Problem 18:\n",
    "\n",
    "<span  style=\"color:purple; font-size:16px\">Suppose you work at Yelp. You have been tasked with a new initiative to create a new award for the highest performing food establishments represented on the Yelp platform. The team at Yelp has determined that any food establishment that has both the highest `stars` rating **AND** the largest total number of reviews (`review_count`) in their city *deserves* the **Best Local Food Establishment Award**. You have been tasked with writing Python code that can determine which food establishments in a data set deserve this new prestigious award.</span>\n",
    "\n",
    "<span  style=\"color:purple; font-size:16px\">For this exercise, create a DataFrame containing all the food establishments in the `food_establishments` data that deserve **Best Local Food Establishment Award** for every city/state combination (to avoid issues with cities that have the same name). The final table that you are to create, called `best_food_establishments`, should provide the `name`, `city`, `state`, `review_count`, and `stars` ratings of all of the food establishments that deserve the award.</span>\n",
    "\n",
    "Important Notes: There are some slight variations in some city names like: LasVegas, Las Vegas, las vegas. You do not need to worry about cleaning this up before performing your analysis, this is really a proof-of-concept for your team. Also, some cities will have no food establishments that deserve to receive this award as it is possible that the food establishment with the largest number of reviews **does not** have the highest rating in the city."
   ]
  },
  {
   "cell_type": "code",
   "execution_count": 30,
   "metadata": {
    "scrolled": false
   },
   "outputs": [
    {
     "name": "stderr",
     "output_type": "stream",
     "text": [
      "/Users/tt/opt/anaconda3/lib/python3.7/site-packages/ipykernel_launcher.py:1: FutureWarning: Indexing with multiple keys (implicitly converted to a tuple of keys) will be deprecated, use a list instead.\n",
      "  \"\"\"Entry point for launching an IPython kernel.\n"
     ]
    }
   ],
   "source": [
    "\n",
    "best_food_establishments = food_establishments.groupby(['city','state'])['stars','review_count','name'].max().reset_index()"
   ]
  },
  {
   "cell_type": "code",
   "execution_count": 31,
   "metadata": {},
   "outputs": [
    {
     "data": {
      "text/html": [
       "<div>\n",
       "<style scoped>\n",
       "    .dataframe tbody tr th:only-of-type {\n",
       "        vertical-align: middle;\n",
       "    }\n",
       "\n",
       "    .dataframe tbody tr th {\n",
       "        vertical-align: top;\n",
       "    }\n",
       "\n",
       "    .dataframe thead th {\n",
       "        text-align: right;\n",
       "    }\n",
       "</style>\n",
       "<table border=\"1\" class=\"dataframe\">\n",
       "  <thead>\n",
       "    <tr style=\"text-align: right;\">\n",
       "      <th></th>\n",
       "      <th>city</th>\n",
       "      <th>state</th>\n",
       "      <th>stars</th>\n",
       "      <th>review_count</th>\n",
       "      <th>name</th>\n",
       "    </tr>\n",
       "  </thead>\n",
       "  <tbody>\n",
       "    <tr>\n",
       "      <th>0</th>\n",
       "      <td>Ahwatukee</td>\n",
       "      <td>Arizona</td>\n",
       "      <td>4.0</td>\n",
       "      <td>283</td>\n",
       "      <td>My Wine Cellar</td>\n",
       "    </tr>\n",
       "    <tr>\n",
       "      <th>1</th>\n",
       "      <td>Amherst</td>\n",
       "      <td>Ohio</td>\n",
       "      <td>5.0</td>\n",
       "      <td>77</td>\n",
       "      <td>Ziggy's Pub &amp; Restaurant</td>\n",
       "    </tr>\n",
       "    <tr>\n",
       "      <th>2</th>\n",
       "      <td>Anthem</td>\n",
       "      <td>Arizona</td>\n",
       "      <td>4.5</td>\n",
       "      <td>257</td>\n",
       "      <td>Tru Burger Co.</td>\n",
       "    </tr>\n",
       "    <tr>\n",
       "      <th>3</th>\n",
       "      <td>Auburn Township</td>\n",
       "      <td>Ohio</td>\n",
       "      <td>4.5</td>\n",
       "      <td>24</td>\n",
       "      <td>Sirna's Pizza</td>\n",
       "    </tr>\n",
       "    <tr>\n",
       "      <th>4</th>\n",
       "      <td>Auburn Twp</td>\n",
       "      <td>Ohio</td>\n",
       "      <td>2.5</td>\n",
       "      <td>9</td>\n",
       "      <td>Auburn Inn</td>\n",
       "    </tr>\n",
       "  </tbody>\n",
       "</table>\n",
       "</div>"
      ],
      "text/plain": [
       "              city    state  stars  review_count                      name\n",
       "0        Ahwatukee  Arizona    4.0           283            My Wine Cellar\n",
       "1          Amherst     Ohio    5.0            77  Ziggy's Pub & Restaurant\n",
       "2           Anthem  Arizona    4.5           257            Tru Burger Co.\n",
       "3  Auburn Township     Ohio    4.5            24             Sirna's Pizza\n",
       "4       Auburn Twp     Ohio    2.5             9                Auburn Inn"
      ]
     },
     "execution_count": 31,
     "metadata": {},
     "output_type": "execute_result"
    }
   ],
   "source": [
    "best_food_establishments.head()"
   ]
  },
  {
   "cell_type": "markdown",
   "metadata": {},
   "source": [
    "### Problem 19: (10 points)\n",
    "\n",
    "<span  style=\"color:purple; font-size:16px\">Subsequent questions involve the `data-sets/yelp_academic_dataset_review.csv` data. Let's investigate the relationship between the data for businesses remaining in `business_data` (we subset the data in a previous problem, you can use it as is) and the `data-sets/yelp_academic_dataset_review.csv` data. One thing that would interesting to know is, does it appear that we have all the reviews for each business? For example: if we see a business in `business_data` has 14 reviews, does the review table contain all 14 of those reviews?</span>\n",
    "\n",
    "<span  style=\"color:purple; font-size:16px\">To determine whether this is the case:\n",
    "    \n",
    "  + Import the `data-sets/yelp_academic_dataset_review.csv` data.\n",
    "  + Subset the reviews data to only contain records for businesses in the `business_data` table.\n",
    "  + Use `groupby()` to get the counts of reviews for every unique business (by `business_id`) in the reviews data.\n",
    "  + Perform an appropriate join to the `business_data` table to create a DataFrame containing three columns: \n",
    "      1. `business_id`\n",
    "      1. `number_reviews` - the number of reviews for that particular business you found in the review table, \n",
    "      1. `review_count` - the number of reviews listed in the `food_establishments` table\n",
    "  + Create a new column `abs_diff` containing the absolute value of the difference in the number of reviews for each business in `business_data` and number of reviews from the reviews table.\n",
    "  + Create a plot that helps us see the extent of any disparities between the number of reviews in the review data and the number of reviews stated in the `business_id` table.\n",
    "  + Use the `describe()` method to numerically describe the extent of any disparities between the number of reviews in the `review_data` and the number of reviews stated in the `business_id` table in the `review_count` field.\n",
    "</span>"
   ]
  },
  {
   "cell_type": "code",
   "execution_count": 32,
   "metadata": {},
   "outputs": [
    {
     "data": {
      "text/html": [
       "<div>\n",
       "<style scoped>\n",
       "    .dataframe tbody tr th:only-of-type {\n",
       "        vertical-align: middle;\n",
       "    }\n",
       "\n",
       "    .dataframe tbody tr th {\n",
       "        vertical-align: top;\n",
       "    }\n",
       "\n",
       "    .dataframe thead th {\n",
       "        text-align: right;\n",
       "    }\n",
       "</style>\n",
       "<table border=\"1\" class=\"dataframe\">\n",
       "  <thead>\n",
       "    <tr style=\"text-align: right;\">\n",
       "      <th></th>\n",
       "      <th>business_id</th>\n",
       "      <th>cool</th>\n",
       "      <th>date</th>\n",
       "      <th>funny</th>\n",
       "      <th>review_id</th>\n",
       "      <th>stars</th>\n",
       "      <th>text</th>\n",
       "      <th>useful</th>\n",
       "      <th>user_id</th>\n",
       "    </tr>\n",
       "  </thead>\n",
       "  <tbody>\n",
       "    <tr>\n",
       "      <th>0</th>\n",
       "      <td>iCQpiavjjPzJ5_3gPD5Ebg</td>\n",
       "      <td>0</td>\n",
       "      <td>2011-02-25</td>\n",
       "      <td>0.0</td>\n",
       "      <td>x7mDIiDB3jEiPGPHOmDzyw</td>\n",
       "      <td>2.0</td>\n",
       "      <td>The pizza was okay. Not the best I've had. I p...</td>\n",
       "      <td>0.0</td>\n",
       "      <td>msQe1u7Z_XuqjGoqhB0J5g</td>\n",
       "    </tr>\n",
       "    <tr>\n",
       "      <th>1</th>\n",
       "      <td>pomGBqfbxcqPv14c3XH-ZQ</td>\n",
       "      <td>0</td>\n",
       "      <td>2012-11-13</td>\n",
       "      <td>0.0</td>\n",
       "      <td>dDl8zu1vWPdKGihJrwQbpw</td>\n",
       "      <td>5.0</td>\n",
       "      <td>I love this place! My fiance And I go here atl...</td>\n",
       "      <td>0.0</td>\n",
       "      <td>msQe1u7Z_XuqjGoqhB0J5g</td>\n",
       "    </tr>\n",
       "    <tr>\n",
       "      <th>2</th>\n",
       "      <td>jtQARsP6P-LbkyjbO1qNGg</td>\n",
       "      <td>1</td>\n",
       "      <td>2014-10-23</td>\n",
       "      <td>1.0</td>\n",
       "      <td>LZp4UX5zK3e-c5ZGSeo3kA</td>\n",
       "      <td>1.0</td>\n",
       "      <td>Terrible. Dry corn bread. Rib tips were all fa...</td>\n",
       "      <td>3.0</td>\n",
       "      <td>msQe1u7Z_XuqjGoqhB0J5g</td>\n",
       "    </tr>\n",
       "    <tr>\n",
       "      <th>3</th>\n",
       "      <td>elqbBhBfElMNSrjFqW3now</td>\n",
       "      <td>0</td>\n",
       "      <td>2011-02-25</td>\n",
       "      <td>0.0</td>\n",
       "      <td>Er4NBWCmCD4nM8_p1GRdow</td>\n",
       "      <td>2.0</td>\n",
       "      <td>Back in 2005-2007 this place was my FAVORITE t...</td>\n",
       "      <td>2.0</td>\n",
       "      <td>msQe1u7Z_XuqjGoqhB0J5g</td>\n",
       "    </tr>\n",
       "    <tr>\n",
       "      <th>4</th>\n",
       "      <td>Ums3gaP2qM3W1XcA5r6SsQ</td>\n",
       "      <td>0</td>\n",
       "      <td>2014-09-05</td>\n",
       "      <td>0.0</td>\n",
       "      <td>jsDu6QEJHbwP2Blom1PLCA</td>\n",
       "      <td>5.0</td>\n",
       "      <td>Delicious healthy food. The steak is amazing. ...</td>\n",
       "      <td>0.0</td>\n",
       "      <td>msQe1u7Z_XuqjGoqhB0J5g</td>\n",
       "    </tr>\n",
       "  </tbody>\n",
       "</table>\n",
       "</div>"
      ],
      "text/plain": [
       "              business_id  cool        date  funny               review_id  stars  \\\n",
       "0  iCQpiavjjPzJ5_3gPD5Ebg     0  2011-02-25    0.0  x7mDIiDB3jEiPGPHOmDzyw    2.0   \n",
       "1  pomGBqfbxcqPv14c3XH-ZQ     0  2012-11-13    0.0  dDl8zu1vWPdKGihJrwQbpw    5.0   \n",
       "2  jtQARsP6P-LbkyjbO1qNGg     1  2014-10-23    1.0  LZp4UX5zK3e-c5ZGSeo3kA    1.0   \n",
       "3  elqbBhBfElMNSrjFqW3now     0  2011-02-25    0.0  Er4NBWCmCD4nM8_p1GRdow    2.0   \n",
       "4  Ums3gaP2qM3W1XcA5r6SsQ     0  2014-09-05    0.0  jsDu6QEJHbwP2Blom1PLCA    5.0   \n",
       "\n",
       "                                                text  useful                 user_id  \n",
       "0  The pizza was okay. Not the best I've had. I p...     0.0  msQe1u7Z_XuqjGoqhB0J5g  \n",
       "1  I love this place! My fiance And I go here atl...     0.0  msQe1u7Z_XuqjGoqhB0J5g  \n",
       "2  Terrible. Dry corn bread. Rib tips were all fa...     3.0  msQe1u7Z_XuqjGoqhB0J5g  \n",
       "3  Back in 2005-2007 this place was my FAVORITE t...     2.0  msQe1u7Z_XuqjGoqhB0J5g  \n",
       "4  Delicious healthy food. The steak is amazing. ...     0.0  msQe1u7Z_XuqjGoqhB0J5g  "
      ]
     },
     "execution_count": 32,
     "metadata": {},
     "output_type": "execute_result"
    }
   ],
   "source": [
    "# Import the review data\n",
    "\n",
    "review_data = pd.read_csv(r'data-sets/yelp_academic_dataset_review.csv')\n",
    "review_data.head()"
   ]
  },
  {
   "cell_type": "code",
   "execution_count": 33,
   "metadata": {},
   "outputs": [],
   "source": [
    "\n",
    "merged_data = pd.merge(review_data,business_data_subset, on='business_id',how='left')"
   ]
  },
  {
   "cell_type": "code",
   "execution_count": 34,
   "metadata": {},
   "outputs": [],
   "source": [
    "number_reviews = merged_data.groupby('business_id')['review_id'].count().reset_index().rename(columns={'review_id':'number_reviews'})"
   ]
  },
  {
   "cell_type": "code",
   "execution_count": 35,
   "metadata": {},
   "outputs": [
    {
     "data": {
      "text/html": [
       "<div>\n",
       "<style scoped>\n",
       "    .dataframe tbody tr th:only-of-type {\n",
       "        vertical-align: middle;\n",
       "    }\n",
       "\n",
       "    .dataframe tbody tr th {\n",
       "        vertical-align: top;\n",
       "    }\n",
       "\n",
       "    .dataframe thead th {\n",
       "        text-align: right;\n",
       "    }\n",
       "</style>\n",
       "<table border=\"1\" class=\"dataframe\">\n",
       "  <thead>\n",
       "    <tr style=\"text-align: right;\">\n",
       "      <th></th>\n",
       "      <th>business_id</th>\n",
       "      <th>number_reviews</th>\n",
       "    </tr>\n",
       "  </thead>\n",
       "  <tbody>\n",
       "    <tr>\n",
       "      <th>0</th>\n",
       "      <td>--1UhMGODdWsrMastO9DZw</td>\n",
       "      <td>24</td>\n",
       "    </tr>\n",
       "    <tr>\n",
       "      <th>1</th>\n",
       "      <td>--6MefnULPED_I942VcFNA</td>\n",
       "      <td>39</td>\n",
       "    </tr>\n",
       "    <tr>\n",
       "      <th>2</th>\n",
       "      <td>--7zmmkVg-IMGaXbuVd0SQ</td>\n",
       "      <td>54</td>\n",
       "    </tr>\n",
       "    <tr>\n",
       "      <th>3</th>\n",
       "      <td>--8LPVSo5i0Oo61X01sV9A</td>\n",
       "      <td>4</td>\n",
       "    </tr>\n",
       "    <tr>\n",
       "      <th>4</th>\n",
       "      <td>--9QQLMTbFzLJ_oT-ON3Xw</td>\n",
       "      <td>11</td>\n",
       "    </tr>\n",
       "  </tbody>\n",
       "</table>\n",
       "</div>"
      ],
      "text/plain": [
       "              business_id  number_reviews\n",
       "0  --1UhMGODdWsrMastO9DZw              24\n",
       "1  --6MefnULPED_I942VcFNA              39\n",
       "2  --7zmmkVg-IMGaXbuVd0SQ              54\n",
       "3  --8LPVSo5i0Oo61X01sV9A               4\n",
       "4  --9QQLMTbFzLJ_oT-ON3Xw              11"
      ]
     },
     "execution_count": 35,
     "metadata": {},
     "output_type": "execute_result"
    }
   ],
   "source": [
    "number_reviews.head()"
   ]
  },
  {
   "cell_type": "code",
   "execution_count": 36,
   "metadata": {},
   "outputs": [],
   "source": [
    "food_reviews = pd.merge(food_establishments[['business_id','review_count']], number_reviews, on='business_id',how='left')"
   ]
  },
  {
   "cell_type": "code",
   "execution_count": 37,
   "metadata": {},
   "outputs": [
    {
     "data": {
      "text/html": [
       "<div>\n",
       "<style scoped>\n",
       "    .dataframe tbody tr th:only-of-type {\n",
       "        vertical-align: middle;\n",
       "    }\n",
       "\n",
       "    .dataframe tbody tr th {\n",
       "        vertical-align: top;\n",
       "    }\n",
       "\n",
       "    .dataframe thead th {\n",
       "        text-align: right;\n",
       "    }\n",
       "</style>\n",
       "<table border=\"1\" class=\"dataframe\">\n",
       "  <thead>\n",
       "    <tr style=\"text-align: right;\">\n",
       "      <th></th>\n",
       "      <th>business_id</th>\n",
       "      <th>review_count</th>\n",
       "      <th>number_reviews</th>\n",
       "    </tr>\n",
       "  </thead>\n",
       "  <tbody>\n",
       "    <tr>\n",
       "      <th>0</th>\n",
       "      <td>AjEbIBw6ZFfln7ePHha9PA</td>\n",
       "      <td>3</td>\n",
       "      <td>3</td>\n",
       "    </tr>\n",
       "    <tr>\n",
       "      <th>1</th>\n",
       "      <td>vJIuDBdu01vCA8y1fwR1OQ</td>\n",
       "      <td>3</td>\n",
       "      <td>3</td>\n",
       "    </tr>\n",
       "    <tr>\n",
       "      <th>2</th>\n",
       "      <td>kgffcoxT6BQp-gJ-UQ7Czw</td>\n",
       "      <td>13</td>\n",
       "      <td>13</td>\n",
       "    </tr>\n",
       "    <tr>\n",
       "      <th>3</th>\n",
       "      <td>0jtRI7hVMpQHpUVtUy4ITw</td>\n",
       "      <td>242</td>\n",
       "      <td>241</td>\n",
       "    </tr>\n",
       "    <tr>\n",
       "      <th>4</th>\n",
       "      <td>JJEx5wIqs9iGGATOagE8Sg</td>\n",
       "      <td>4</td>\n",
       "      <td>4</td>\n",
       "    </tr>\n",
       "  </tbody>\n",
       "</table>\n",
       "</div>"
      ],
      "text/plain": [
       "              business_id  review_count  number_reviews\n",
       "0  AjEbIBw6ZFfln7ePHha9PA             3               3\n",
       "1  vJIuDBdu01vCA8y1fwR1OQ             3               3\n",
       "2  kgffcoxT6BQp-gJ-UQ7Czw            13              13\n",
       "3  0jtRI7hVMpQHpUVtUy4ITw           242             241\n",
       "4  JJEx5wIqs9iGGATOagE8Sg             4               4"
      ]
     },
     "execution_count": 37,
     "metadata": {},
     "output_type": "execute_result"
    }
   ],
   "source": [
    "food_reviews.head()"
   ]
  },
  {
   "cell_type": "code",
   "execution_count": 38,
   "metadata": {},
   "outputs": [],
   "source": [
    "# Create the new column `abs_diff`\n",
    "food_reviews['abs_diff'] = abs(food_reviews['review_count']-food_reviews['number_reviews'])"
   ]
  },
  {
   "cell_type": "code",
   "execution_count": 39,
   "metadata": {},
   "outputs": [
    {
     "data": {
      "text/plain": [
       "1    1189\n",
       "2      77\n",
       "3      11\n",
       "6       2\n",
       "5       2\n",
       "9       1\n",
       "7       1\n",
       "Name: abs_diff, dtype: int64"
      ]
     },
     "execution_count": 39,
     "metadata": {},
     "output_type": "execute_result"
    }
   ],
   "source": [
    "# The extent of any disparities\n",
    "extent_disparity = food_reviews.loc[food_reviews['abs_diff']>0,'abs_diff'].value_counts()\n",
    "extent_disparity"
   ]
  },
  {
   "cell_type": "code",
   "execution_count": 40,
   "metadata": {},
   "outputs": [
    {
     "data": {
      "image/png": "[encoded data removed]",
      "text/plain": [
       "<Figure size 720x576 with 1 Axes>"
      ]
     },
     "metadata": {
      "needs_background": "light"
     },
     "output_type": "display_data"
    }
   ],
   "source": [
    "# Plot the disparities\n",
    "fig, ax=plt.subplots(figsize = (10,8))\n",
    "bars = plt.bar(extent_disparity.index, extent_disparity, width=0.8)\n",
    "ax.set_xticks(extent_disparity.index)\n",
    "for bar in bars:\n",
    "    yval = bar.get_height()\n",
    "    plt.text(bar.get_x()+0.3, yval + 30, yval)"
   ]
  },
  {
   "cell_type": "code",
   "execution_count": 41,
   "metadata": {},
   "outputs": [
    {
     "data": {
      "text/html": [
       "<div>\n",
       "<style scoped>\n",
       "    .dataframe tbody tr th:only-of-type {\n",
       "        vertical-align: middle;\n",
       "    }\n",
       "\n",
       "    .dataframe tbody tr th {\n",
       "        vertical-align: top;\n",
       "    }\n",
       "\n",
       "    .dataframe thead th {\n",
       "        text-align: right;\n",
       "    }\n",
       "</style>\n",
       "<table border=\"1\" class=\"dataframe\">\n",
       "  <thead>\n",
       "    <tr style=\"text-align: right;\">\n",
       "      <th></th>\n",
       "      <th>review_count</th>\n",
       "      <th>number_reviews</th>\n",
       "      <th>abs_diff</th>\n",
       "    </tr>\n",
       "  </thead>\n",
       "  <tbody>\n",
       "    <tr>\n",
       "      <th>count</th>\n",
       "      <td>27724.000000</td>\n",
       "      <td>27724.000000</td>\n",
       "      <td>27724.000000</td>\n",
       "    </tr>\n",
       "    <tr>\n",
       "      <th>mean</th>\n",
       "      <td>95.902034</td>\n",
       "      <td>95.902900</td>\n",
       "      <td>0.051003</td>\n",
       "    </tr>\n",
       "    <tr>\n",
       "      <th>std</th>\n",
       "      <td>219.118224</td>\n",
       "      <td>219.111177</td>\n",
       "      <td>0.253097</td>\n",
       "    </tr>\n",
       "    <tr>\n",
       "      <th>min</th>\n",
       "      <td>3.000000</td>\n",
       "      <td>3.000000</td>\n",
       "      <td>0.000000</td>\n",
       "    </tr>\n",
       "    <tr>\n",
       "      <th>25%</th>\n",
       "      <td>10.000000</td>\n",
       "      <td>10.000000</td>\n",
       "      <td>0.000000</td>\n",
       "    </tr>\n",
       "    <tr>\n",
       "      <th>50%</th>\n",
       "      <td>31.000000</td>\n",
       "      <td>31.000000</td>\n",
       "      <td>0.000000</td>\n",
       "    </tr>\n",
       "    <tr>\n",
       "      <th>75%</th>\n",
       "      <td>96.000000</td>\n",
       "      <td>96.000000</td>\n",
       "      <td>0.000000</td>\n",
       "    </tr>\n",
       "    <tr>\n",
       "      <th>max</th>\n",
       "      <td>7968.000000</td>\n",
       "      <td>7968.000000</td>\n",
       "      <td>9.000000</td>\n",
       "    </tr>\n",
       "  </tbody>\n",
       "</table>\n",
       "</div>"
      ],
      "text/plain": [
       "       review_count  number_reviews      abs_diff\n",
       "count  27724.000000    27724.000000  27724.000000\n",
       "mean      95.902034       95.902900      0.051003\n",
       "std      219.118224      219.111177      0.253097\n",
       "min        3.000000        3.000000      0.000000\n",
       "25%       10.000000       10.000000      0.000000\n",
       "50%       31.000000       31.000000      0.000000\n",
       "75%       96.000000       96.000000      0.000000\n",
       "max     7968.000000     7968.000000      9.000000"
      ]
     },
     "execution_count": 41,
     "metadata": {},
     "output_type": "execute_result"
    }
   ],
   "source": [
    "food_reviews.describe()"
   ]
  },
  {
   "cell_type": "markdown",
   "metadata": {},
   "source": [
    "Describe what you see in the plot and the output from `describe()`. Does it appear that we have the all or most of the reviews for every business in the `business_data` table?"
   ]
  },
  {
   "cell_type": "markdown",
   "metadata": {},
   "source": [
    "#### Written Answer:\n",
    "\n",
    "+ From the plot, we can see that there are 1189 rows that the difference in the number of reviews for each business in business_data and number of reviews from the reviews table are 1, 77 rows that the difference are 2, 11 rows that difference are 3, 2 rows that difference are 5 and 6, and 1 row that the difference is 7 and 9.\n",
    "+ The mean of abs_diff is 0.05, and std is 0.25.\n",
    "+ It appear that we have most of the reviews for every businness in the table.\n",
    "\n"
   ]
  },
  {
   "cell_type": "markdown",
   "metadata": {},
   "source": [
    "---\n",
    "\n",
    "## Wrapping up\n",
    "\n",
    "In this section of the Final Project, you will be focused on analyzing the Yelp users and the reviews they leave. Unlike the previous part, you will not be guided through each step and must decide how best to proceed.\n",
    "\n",
    "Your analyses will involve the following 3 tables:\n",
    "\n",
    "+ `yelp_academic_dataset_review.csv` - contains a subset of Yelp reviews with a `business_id` indicating what business the review is for and a `user_id` to identify the user leaving the review.\n",
    "\n",
    "+ `yelp_academic_dataset_user.csv` - contains a subset of Yelp users identified by `user_id`\n",
    "\n",
    "+ `yelp_academic_dataset_business.csv` - contains information about a subset of businesses having at least one Yelp review and every distinct business has a unique `business_id`. This is the table that we have been analyzing in Problems 1-19. \n"
   ]
  },
  {
   "cell_type": "code",
   "execution_count": 42,
   "metadata": {},
   "outputs": [
    {
     "data": {
      "text/html": [
       "<div>\n",
       "<style scoped>\n",
       "    .dataframe tbody tr th:only-of-type {\n",
       "        vertical-align: middle;\n",
       "    }\n",
       "\n",
       "    .dataframe tbody tr th {\n",
       "        vertical-align: top;\n",
       "    }\n",
       "\n",
       "    .dataframe thead th {\n",
       "        text-align: right;\n",
       "    }\n",
       "</style>\n",
       "<table border=\"1\" class=\"dataframe\">\n",
       "  <thead>\n",
       "    <tr style=\"text-align: right;\">\n",
       "      <th></th>\n",
       "      <th>average_stars</th>\n",
       "      <th>compliment_cool</th>\n",
       "      <th>compliment_cute</th>\n",
       "      <th>compliment_funny</th>\n",
       "      <th>compliment_hot</th>\n",
       "      <th>compliment_list</th>\n",
       "      <th>compliment_more</th>\n",
       "      <th>compliment_note</th>\n",
       "      <th>compliment_photos</th>\n",
       "      <th>compliment_plain</th>\n",
       "      <th>compliment_profile</th>\n",
       "      <th>compliment_writer</th>\n",
       "      <th>cool</th>\n",
       "      <th>elite</th>\n",
       "      <th>fans</th>\n",
       "      <th>friends</th>\n",
       "      <th>funny</th>\n",
       "      <th>name</th>\n",
       "      <th>review_count</th>\n",
       "      <th>useful</th>\n",
       "      <th>user_id</th>\n",
       "      <th>yelping_since</th>\n",
       "    </tr>\n",
       "  </thead>\n",
       "  <tbody>\n",
       "    <tr>\n",
       "      <th>0</th>\n",
       "      <td>2.00</td>\n",
       "      <td>0</td>\n",
       "      <td>0</td>\n",
       "      <td>0</td>\n",
       "      <td>0</td>\n",
       "      <td>0</td>\n",
       "      <td>0</td>\n",
       "      <td>0</td>\n",
       "      <td>0</td>\n",
       "      <td>0</td>\n",
       "      <td>0</td>\n",
       "      <td>0</td>\n",
       "      <td>0</td>\n",
       "      <td>None</td>\n",
       "      <td>0</td>\n",
       "      <td>None</td>\n",
       "      <td>0</td>\n",
       "      <td>Susan</td>\n",
       "      <td>1</td>\n",
       "      <td>0</td>\n",
       "      <td>lzlZwIpuSWXEnNS91wxjHw</td>\n",
       "      <td>2015-09-28</td>\n",
       "    </tr>\n",
       "    <tr>\n",
       "      <th>1</th>\n",
       "      <td>5.00</td>\n",
       "      <td>0</td>\n",
       "      <td>0</td>\n",
       "      <td>0</td>\n",
       "      <td>0</td>\n",
       "      <td>0</td>\n",
       "      <td>0</td>\n",
       "      <td>0</td>\n",
       "      <td>0</td>\n",
       "      <td>0</td>\n",
       "      <td>0</td>\n",
       "      <td>0</td>\n",
       "      <td>0</td>\n",
       "      <td>None</td>\n",
       "      <td>0</td>\n",
       "      <td>None</td>\n",
       "      <td>0</td>\n",
       "      <td>Daipayan</td>\n",
       "      <td>2</td>\n",
       "      <td>0</td>\n",
       "      <td>XvLBr-9smbI0m_a7dXtB7w</td>\n",
       "      <td>2015-09-05</td>\n",
       "    </tr>\n",
       "    <tr>\n",
       "      <th>2</th>\n",
       "      <td>4.00</td>\n",
       "      <td>0</td>\n",
       "      <td>0</td>\n",
       "      <td>0</td>\n",
       "      <td>0</td>\n",
       "      <td>0</td>\n",
       "      <td>0</td>\n",
       "      <td>0</td>\n",
       "      <td>0</td>\n",
       "      <td>0</td>\n",
       "      <td>0</td>\n",
       "      <td>0</td>\n",
       "      <td>0</td>\n",
       "      <td>None</td>\n",
       "      <td>0</td>\n",
       "      <td>None</td>\n",
       "      <td>0</td>\n",
       "      <td>Andy</td>\n",
       "      <td>1</td>\n",
       "      <td>0</td>\n",
       "      <td>QPT4Ud4H5sJVr68yXhoWFw</td>\n",
       "      <td>2016-07-21</td>\n",
       "    </tr>\n",
       "    <tr>\n",
       "      <th>3</th>\n",
       "      <td>4.05</td>\n",
       "      <td>0</td>\n",
       "      <td>0</td>\n",
       "      <td>0</td>\n",
       "      <td>0</td>\n",
       "      <td>0</td>\n",
       "      <td>0</td>\n",
       "      <td>0</td>\n",
       "      <td>0</td>\n",
       "      <td>0</td>\n",
       "      <td>0</td>\n",
       "      <td>0</td>\n",
       "      <td>0</td>\n",
       "      <td>None</td>\n",
       "      <td>0</td>\n",
       "      <td>None</td>\n",
       "      <td>0</td>\n",
       "      <td>Jonathan</td>\n",
       "      <td>19</td>\n",
       "      <td>0</td>\n",
       "      <td>i5YitlHZpf0B3R0s_8NVuw</td>\n",
       "      <td>2014-08-04</td>\n",
       "    </tr>\n",
       "    <tr>\n",
       "      <th>4</th>\n",
       "      <td>3.00</td>\n",
       "      <td>0</td>\n",
       "      <td>0</td>\n",
       "      <td>0</td>\n",
       "      <td>0</td>\n",
       "      <td>0</td>\n",
       "      <td>0</td>\n",
       "      <td>0</td>\n",
       "      <td>0</td>\n",
       "      <td>0</td>\n",
       "      <td>0</td>\n",
       "      <td>0</td>\n",
       "      <td>0</td>\n",
       "      <td>None</td>\n",
       "      <td>0</td>\n",
       "      <td>None</td>\n",
       "      <td>0</td>\n",
       "      <td>Shashank</td>\n",
       "      <td>3</td>\n",
       "      <td>0</td>\n",
       "      <td>s4FoIXE_LSGviTHBe8dmcg</td>\n",
       "      <td>2017-06-18</td>\n",
       "    </tr>\n",
       "  </tbody>\n",
       "</table>\n",
       "</div>"
      ],
      "text/plain": [
       "   average_stars  compliment_cool  compliment_cute  compliment_funny  compliment_hot  \\\n",
       "0           2.00                0                0                 0               0   \n",
       "1           5.00                0                0                 0               0   \n",
       "2           4.00                0                0                 0               0   \n",
       "3           4.05                0                0                 0               0   \n",
       "4           3.00                0                0                 0               0   \n",
       "\n",
       "   compliment_list  compliment_more  compliment_note  compliment_photos  compliment_plain  \\\n",
       "0                0                0                0                  0                 0   \n",
       "1                0                0                0                  0                 0   \n",
       "2                0                0                0                  0                 0   \n",
       "3                0                0                0                  0                 0   \n",
       "4                0                0                0                  0                 0   \n",
       "\n",
       "   compliment_profile  compliment_writer  cool elite  fans friends  funny      name  review_count  \\\n",
       "0                   0                  0     0  None     0    None      0     Susan             1   \n",
       "1                   0                  0     0  None     0    None      0  Daipayan             2   \n",
       "2                   0                  0     0  None     0    None      0      Andy             1   \n",
       "3                   0                  0     0  None     0    None      0  Jonathan            19   \n",
       "4                   0                  0     0  None     0    None      0  Shashank             3   \n",
       "\n",
       "   useful                 user_id yelping_since  \n",
       "0       0  lzlZwIpuSWXEnNS91wxjHw    2015-09-28  \n",
       "1       0  XvLBr-9smbI0m_a7dXtB7w    2015-09-05  \n",
       "2       0  QPT4Ud4H5sJVr68yXhoWFw    2016-07-21  \n",
       "3       0  i5YitlHZpf0B3R0s_8NVuw    2014-08-04  \n",
       "4       0  s4FoIXE_LSGviTHBe8dmcg    2017-06-18  "
      ]
     },
     "execution_count": 42,
     "metadata": {},
     "output_type": "execute_result"
    }
   ],
   "source": [
    "# Import the user data table\n",
    "\n",
    "user_data = pd.read_csv(r'data-sets/yelp_academic_dataset_user.csv')\n",
    "user_data.head(5)"
   ]
  },
  {
   "cell_type": "markdown",
   "metadata": {},
   "source": [
    "### Problem 20: Time Based Analysis\n",
    "\n",
    "<span  style=\"color:purple; font-size:16px\">The `review_data` table contains a column `date` representing the date the review was created.</span>\n",
    "\n",
    "Chose **ONE** of the questions below and use the `review_data` to answer.\n",
    "\n",
    "1. Are more reviews posted during certain days of the week? What about certain months of the year? What patterns can you find about when reviews are posted? Draw a suitable plot.\n",
    "\n",
    "1. Do reviews made on certain days of the week or certain months of the year tend to be higher/lower rated? What relationship can you find between the `stars` ratings of a review and when the reviews was posted? Draw a suitable plot."
   ]
  },
  {
   "cell_type": "markdown",
   "metadata": {},
   "source": [
    "#### Question 1"
   ]
  },
  {
   "cell_type": "code",
   "execution_count": 43,
   "metadata": {},
   "outputs": [
    {
     "name": "stdout",
     "output_type": "stream",
     "text": [
      "<class 'pandas.core.frame.DataFrame'>\n",
      "RangeIndex: 5996998 entries, 0 to 5996997\n",
      "Data columns (total 9 columns):\n",
      " #   Column       Dtype  \n",
      "---  ------       -----  \n",
      " 0   business_id  object \n",
      " 1   cool         int64  \n",
      " 2   date         object \n",
      " 3   funny        float64\n",
      " 4   review_id    object \n",
      " 5   stars        float64\n",
      " 6   text         object \n",
      " 7   useful       float64\n",
      " 8   user_id      object \n",
      "dtypes: float64(3), int64(1), object(5)\n",
      "memory usage: 411.8+ MB\n"
     ]
    }
   ],
   "source": [
    "# Check the type of column date\n",
    "review_data.info()"
   ]
  },
  {
   "cell_type": "code",
   "execution_count": 44,
   "metadata": {},
   "outputs": [],
   "source": [
    "# Change the column date type to datetime\n",
    "review_data['date'] = pd.to_datetime(review_data['date'], errors='coerce')"
   ]
  },
  {
   "cell_type": "code",
   "execution_count": 45,
   "metadata": {},
   "outputs": [
    {
     "name": "stdout",
     "output_type": "stream",
     "text": [
      "<class 'pandas.core.frame.DataFrame'>\n",
      "RangeIndex: 5996998 entries, 0 to 5996997\n",
      "Data columns (total 1 columns):\n",
      " #   Column  Dtype         \n",
      "---  ------  -----         \n",
      " 0   date    datetime64[ns]\n",
      "dtypes: datetime64[ns](1)\n",
      "memory usage: 45.8 MB\n"
     ]
    }
   ],
   "source": [
    "review_data[['date']].info()"
   ]
  },
  {
   "cell_type": "code",
   "execution_count": 46,
   "metadata": {},
   "outputs": [
    {
     "data": {
      "text/plain": [
       "Text(0.5, 1.0, 'Number of Reviews Posted on Days of Week')"
      ]
     },
     "execution_count": 46,
     "metadata": {},
     "output_type": "execute_result"
    },
    {
     "data": {
      "image/png": "[encoded data removed]",
      "text/plain": [
       "<Figure size 720x576 with 1 Axes>"
      ]
     },
     "metadata": {
      "needs_background": "light"
     },
     "output_type": "display_data"
    }
   ],
   "source": [
    "# Number of reviews posted on the days of week \n",
    "fig, ax = plt.subplots(figsize = (10,8))\n",
    "review_data['date'].dt.day_name().value_counts().plot(kind = 'barh')\n",
    "ax.set_title('Number of Reviews Posted on Days of Week', fontsize = 20)"
   ]
  },
  {
   "cell_type": "code",
   "execution_count": 47,
   "metadata": {},
   "outputs": [
    {
     "data": {
      "text/plain": [
       "Text(0.5, 1.0, 'Number of Reviews Posted on Months of Year')"
      ]
     },
     "execution_count": 47,
     "metadata": {},
     "output_type": "execute_result"
    },
    {
     "data": {
      "image/png": "[encoded data removed]",
      "text/plain": [
       "<Figure size 720x576 with 1 Axes>"
      ]
     },
     "metadata": {
      "needs_background": "light"
     },
     "output_type": "display_data"
    }
   ],
   "source": [
    "# Number of reviews posted on the months of the year\n",
    "fig, ax = plt.subplots(figsize = (10,8))\n",
    "review_data['date'].dt.month_name().value_counts().plot(kind = 'barh')\n",
    "ax.set_title('Number of Reviews Posted on Months of Year', fontsize = 20)"
   ]
  },
  {
   "cell_type": "code",
   "execution_count": 48,
   "metadata": {},
   "outputs": [],
   "source": [
    "# Set column date as index\n",
    "review_data.set_index('date', inplace = True)"
   ]
  },
  {
   "cell_type": "code",
   "execution_count": 49,
   "metadata": {},
   "outputs": [
    {
     "data": {
      "text/plain": [
       "Text(0, 0.5, 'Number of Post')"
      ]
     },
     "execution_count": 49,
     "metadata": {},
     "output_type": "execute_result"
    },
    {
     "data": {
      "image/png": "[encoded data removed]",
      "text/plain": [
       "<Figure size 720x576 with 1 Axes>"
      ]
     },
     "metadata": {
      "needs_background": "light"
     },
     "output_type": "display_data"
    }
   ],
   "source": [
    "# Plot the number of reviews posted based on the date\n",
    "fig,ax=plt.subplots(figsize=(10,8))\n",
    "review_data.index.value_counts().plot()\n",
    "ax.set_title('Reviews Posted by Years', fontsize = 20)\n",
    "ax.set_xlabel('Year', fontsize = 15)\n",
    "ax.set_ylabel('Number of Post', fontsize = 15)"
   ]
  },
  {
   "cell_type": "code",
   "execution_count": null,
   "metadata": {},
   "outputs": [],
   "source": []
  },
  {
   "cell_type": "markdown",
   "metadata": {},
   "source": [
    "<span  style=\"color:purple; font-size:16px\">Provide a brief explanation of your conclusions.</span>"
   ]
  },
  {
   "cell_type": "markdown",
   "metadata": {},
   "source": [
    "#### Written Answer:\n",
    "\n",
    "From all the graphs, we can see that more reviews posted during Sunday, Mondy, and Saturday, and June of the year. We can also tell that the increase pattern of the number reviews posted from begining of year to summer time, and decreases pattern after July/August.\n",
    "____\n",
    "\n"
   ]
  },
  {
   "cell_type": "markdown",
   "metadata": {},
   "source": [
    "### Problem 21: Text Based Analysis\n",
    "\n",
    "<span  style=\"color:purple; font-size:16px\">The `review_data` table contains a column `text` containing the full text of the review. Use these data to answer one of the questions below.</span>\n",
    "\n",
    "Chose **ONE** of the questions below and use the `review_data` to answer.\n",
    "\n",
    "1. Can you classify a review as having a *positive* or *negative* sentiment? If so, select five particular businesses (by `business_id`) and compare the business's average `stars` rating from the `business_data` to the proportion of reviews you have identified as having `positive` or `negative` sentiment for those particular businesses. Draw a suitable plot.\n",
    "\n",
    "1. Do reviews with exclamation points seem to be either very highly rated or very low rated? Determine the `stars` distribution as a function of the number of exclamation points used in the review. Draw a suitable plot.\n"
   ]
  },
  {
   "cell_type": "code",
   "execution_count": 50,
   "metadata": {},
   "outputs": [],
   "source": [
    "# Pipeline function part 1: Create function to pre-process review\n",
    "\n",
    "def pre_process_review(review):\n",
    "    \n",
    "    # Cast to a Series\n",
    "    review = pd.Series(review)\n",
    "    \n",
    "    # process review, return DataFrame\n",
    "    clean_review = review.str.lower().str.replace(pat = r\"[!.'',]\", repl = '')\n",
    "    clean_review = clean_review.str.split(expand = True).transpose()\n",
    "    clean_review.columns = ['word']\n",
    "    return clean_review"
   ]
  },
  {
   "cell_type": "code",
   "execution_count": 51,
   "metadata": {},
   "outputs": [],
   "source": [
    "# Pipeline function part 2: remove stopwords\n",
    "\n",
    "def remove_stopwords(cleaned_review):\n",
    "    \n",
    "    # Read-in stopwords\n",
    "    stopwords = pd.read_csv(r\"data-sets/lexicons/stopwords.csv\")\n",
    "    \n",
    "    # Perform Anti-Join and return processed DataFrame\n",
    "    stop_merge = cleaned_review.merge(stopwords, \n",
    "                                how = 'left', \n",
    "                                left_on = 'word', \n",
    "                                right_on = 'stopwords', \n",
    "                                indicator = True)\n",
    "    filt = stop_merge['_merge'] == 'left_only'\n",
    "    return stop_merge[filt][['word']]"
   ]
  },
  {
   "cell_type": "code",
   "execution_count": 52,
   "metadata": {},
   "outputs": [],
   "source": [
    "# Pipeline function part 3: add sentiment\n",
    "\n",
    "def get_sentiment(cleaned_reviews):\n",
    "    bing_lexicon = pd.read_csv(r\"data-sets/lexicons/bing.csv\")\n",
    "    cleaned_reviews = cleaned_reviews.merge(bing_lexicon,\n",
    "                                            how = 'left',\n",
    "                                            on = 'word')\n",
    "    cleaned_reviews['sentiment'].fillna('neutral', inplace = True)\n",
    "    return cleaned_reviews\n",
    "\n",
    "# Test\n",
    "# get_sentiment(remove_stopwords(pre_process_review(review1)))"
   ]
  },
  {
   "cell_type": "code",
   "execution_count": 53,
   "metadata": {},
   "outputs": [],
   "source": [
    "# Pipeline function part 4: count sentiment\n",
    "\n",
    "def extract_sentiment_count(sentiment_df, sentiment):\n",
    "    filt = sentiment_df['sentiment'] == sentiment\n",
    "    num_count = sentiment_df.loc[filt].shape[0]\n",
    "    return num_count"
   ]
  },
  {
   "cell_type": "code",
   "execution_count": 54,
   "metadata": {},
   "outputs": [],
   "source": [
    "# Write function to process entire review\n",
    "\n",
    "def process_review_sentiment(review, verbose = False):\n",
    "    review = get_sentiment(remove_stopwords(pre_process_review(review)))\n",
    "    pos_count = extract_sentiment_count(review, 'positive')\n",
    "    neg_count = extract_sentiment_count(review, 'negative')\n",
    "    return pos_count, neg_count"
   ]
  },
  {
   "cell_type": "code",
   "execution_count": 55,
   "metadata": {},
   "outputs": [
    {
     "data": {
      "text/plain": [
       "['UBj-25LU5dxJ9meb-TPc9w',\n",
       " 'OY0-hYJ2q6WiAqhYnCZZ0w',\n",
       " 'Iu_uZRVStxL1GuhDXaEJHA',\n",
       " 'pP71Ir_U2uKU10f4vwA7tA',\n",
       " 'apdb7MGnmnx6nGWBJ0ch_g']"
      ]
     },
     "execution_count": 55,
     "metadata": {},
     "output_type": "execute_result"
    }
   ],
   "source": [
    "# Your code here\n",
    "business_id_samples = review_data.business_id.sample(5).to_list()\n",
    "business_id_samples"
   ]
  },
  {
   "cell_type": "code",
   "execution_count": 56,
   "metadata": {},
   "outputs": [],
   "source": [
    "business_samples = review_data.loc[review_data.business_id.isin(business_id_samples)]"
   ]
  },
  {
   "cell_type": "code",
   "execution_count": 57,
   "metadata": {},
   "outputs": [],
   "source": [
    "business_samples.reset_index(inplace = True)"
   ]
  },
  {
   "cell_type": "code",
   "execution_count": 58,
   "metadata": {},
   "outputs": [],
   "source": [
    "# Wrap-up all our processing steps into a single function\n",
    "\n",
    "def add_sentiment(df, review_col):\n",
    "    \n",
    "    sentiments = pd.DataFrame.from_records(df[[review_col]].apply(process_review_sentiment, axis = 1).to_list())\n",
    "    sentiments.columns = ['num_positive', 'num_negative']\n",
    "    df = pd.concat([df, sentiments], axis = 'columns')\n",
    "    return df"
   ]
  },
  {
   "cell_type": "code",
   "execution_count": 59,
   "metadata": {},
   "outputs": [],
   "source": [
    "business_samples = add_sentiment(business_samples, 'text')"
   ]
  },
  {
   "cell_type": "code",
   "execution_count": 60,
   "metadata": {},
   "outputs": [
    {
     "data": {
      "text/plain": [
       "Text(0, 0.5, 'Average')"
      ]
     },
     "execution_count": 60,
     "metadata": {},
     "output_type": "execute_result"
    },
    {
     "data": {
      "image/png": "[encoded data removed]",
      "text/plain": [
       "<Figure size 720x576 with 1 Axes>"
      ]
     },
     "metadata": {
      "needs_background": "light"
     },
     "output_type": "display_data"
    }
   ],
   "source": [
    "# Compare the difference\n",
    "fig, ax = plt.subplots(figsize = (10,8))\n",
    "business_samples.groupby('business_id')[['stars','num_positive','num_negative']].mean().plot(kind= 'bar', ax =ax)\n",
    "ax.set_title('Average Stars Rating  v.s  the Proportion of Numbers of Positive and Negative in the Reviews per Business')\n",
    "ax.set_xlabel('Business ID')\n",
    "ax.set_ylabel('Average')"
   ]
  },
  {
   "cell_type": "markdown",
   "metadata": {},
   "source": [
    "<span  style=\"color:purple; font-size:16px\">Provide a brief explanation of your conclusions.</span>"
   ]
  },
  {
   "cell_type": "markdown",
   "metadata": {},
   "source": [
    "#### Written Answer:\n",
    "\n",
    "From the above graph, we can see that the greater the difference of the amount of positive and negative terms yeids a higher rating.\n",
    "\n",
    "____"
   ]
  },
  {
   "cell_type": "markdown",
   "metadata": {},
   "source": [
    "### Problem 22: Analysis of Users\n",
    "\n",
    "<span  style=\"color:purple; font-size:16px\">Create a function that accepts at least a `user_id` as input. This function use the `yelp_academic_dataset_user.csv` data as well as the `yelp_academic_dataset_review.csv` or `yelp_academic_dataset_business.csv` tables as necessary.</span>\n",
    "\n",
    "<span  style=\"color:purple; font-size:16px\">The function should automatically process the data relevant to the `user_id` passed and create at least one plot annotated with relevant, interesting information about the user that best answers the following questions:</span>\n",
    "\n",
    "**What types of businesses has the user reviewed? Summarize the users review ratings by business category.**\n",
    "\n",
    "Tip: It is OK if the results of your function are not very interesting for users with only a small number of reviews but your function should produce something reasonable for any `user_id` that may be passed."
   ]
  },
  {
   "cell_type": "code",
   "execution_count": 61,
   "metadata": {},
   "outputs": [],
   "source": [
    "# Function by using review data and business data.\n",
    "def user_review_business(user_id):\n",
    "    full_list2=[]\n",
    "    combined_reviews = pd.merge(review_data,business_data, on='business_id',how='left') \n",
    "    for i in range(len(combined_reviews[combined_reviews['user_id']==user_id])):\n",
    "        for j in str(combined_reviews[combined_reviews['user_id']==user_id].loc[i,'categories']).split(','):\n",
    "            full_list2.append(j)\n",
    "            \n",
    "    d = pd.Series(full_list2).str.strip().value_counts()\n",
    "\n",
    "    fig,ax=plt.subplots(figsize=(10,8))\n",
    "    d.plot(kind = 'bar', ax=ax)\n",
    "    ax.set_title(f\"The Business Categories Reviews that the User '{user_id}' Posted\")\n",
    "    ax.set_xlabel('Business Categories')\n",
    "    ax.set_ylabel('Count')"
   ]
  },
  {
   "cell_type": "code",
   "execution_count": 62,
   "metadata": {},
   "outputs": [
    {
     "data": {
      "image/png": "[encoded data removed]",
      "text/plain": [
       "<Figure size 720x576 with 1 Axes>"
      ]
     },
     "metadata": {
      "needs_background": "light"
     },
     "output_type": "display_data"
    }
   ],
   "source": [
    "user_review_business('msQe1u7Z_XuqjGoqhB0J5g')"
   ]
  },
  {
   "cell_type": "code",
   "execution_count": 63,
   "metadata": {},
   "outputs": [],
   "source": [
    "# Function by using user data, review data and business data.\n",
    "def user_review_business2(user_id):\n",
    "    full_list2=[]\n",
    "    a = review_data.merge(user_data, on='user_id',how='inner')\n",
    "    b = a.merge(business_data, on = 'business_id', how='left')\n",
    "    c = b.loc[b['user_id']==user_id]\n",
    "    for i in range(len(c)):\n",
    "        for j in str(c.loc[i,'categories']).split(','):\n",
    "            full_list2.append(j)\n",
    "            \n",
    "    d = pd.Series(full_list2).str.strip().value_counts()\n",
    "\n",
    "    fig,ax=plt.subplots(figsize=(10,8))\n",
    "    d.plot(kind = 'bar', ax=ax)\n",
    "    ax.set_title(f\"The Business Categories Reviews that the User '{user_id}' Posted\")\n",
    "    ax.set_xlabel('Business Categories')\n",
    "    ax.set_ylabel('Count')"
   ]
  },
  {
   "cell_type": "code",
   "execution_count": 64,
   "metadata": {},
   "outputs": [
    {
     "data": {
      "image/png": "[encoded data removed]",
      "text/plain": [
       "<Figure size 720x576 with 1 Axes>"
      ]
     },
     "metadata": {
      "needs_background": "light"
     },
     "output_type": "display_data"
    }
   ],
   "source": [
    "user_review_business2('msQe1u7Z_XuqjGoqhB0J5g')"
   ]
  },
  {
   "cell_type": "code",
   "execution_count": null,
   "metadata": {},
   "outputs": [],
   "source": []
  }
 ],
 "metadata": {
  "kernelspec": {
   "display_name": "Python 3",
   "language": "python",
   "name": "python3"
  },
  "language_info": {
   "codemirror_mode": {
    "name": "ipython",
    "version": 3
   },
   "file_extension": ".py",
   "mimetype": "text/x-python",
   "name": "python",
   "nbconvert_exporter": "python",
   "pygments_lexer": "ipython3",
   "version": "3.7.4"
  },
  "toc": {
   "base_numbering": 1,
   "nav_menu": {},
   "number_sections": false,
   "sideBar": false,
   "skip_h1_title": false,
   "title_cell": "Table of Contents",
   "title_sidebar": "Contents",
   "toc_cell": false,
   "toc_position": {},
   "toc_section_display": false,
   "toc_window_display": false
  }
 },
 "nbformat": 4,
 "nbformat_minor": 2
}
